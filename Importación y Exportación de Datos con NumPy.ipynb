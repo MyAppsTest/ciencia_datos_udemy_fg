{
  "cells": [
    {
      "cell_type": "markdown",
      "metadata": {
        "id": "view-in-github",
        "colab_type": "text"
      },
      "source": [
        "<a href=\"https://colab.research.google.com/github/MyAppsTest/ciencia_datos_udemy_fg/blob/main/Importaci%C3%B3n%20y%20Exportaci%C3%B3n%20de%20Datos%20con%20NumPy.ipynb\" target=\"_parent\"><img src=\"https://colab.research.google.com/assets/colab-badge.svg\" alt=\"Open In Colab\"/></a>"
      ]
    },
    {
      "cell_type": "markdown",
      "id": "fc55739c",
      "metadata": {
        "id": "fc55739c"
      },
      "source": [
        "# Importación y Exportación de Datos con NumPy\n",
        "\n",
        "En esta lección vamos a aprender cómo importar datos desde archivos externos para cargarlos en nuestros arrays de NumPy, y también vamos a aprender el proceso inverso: cómo exportar nuestros arrays de NumPy hacia archivos externos, como Excel o csv.\n",
        "\n",
        "NumPy tiene herramientas que facilitan la importación de datos desde varios tipos de archivos, y es bastante similar a como lo hacemos con Pandas.\n",
        "\n",
        "Te propongo que descargues el archivo provisto en esta lección para hacer la prueba."
      ]
    },
    {
      "cell_type": "code",
      "source": [
        "from google.colab import drive\n",
        "drive.mount('/content/drive')"
      ],
      "metadata": {
        "id": "kWzd9-f5aZud",
        "outputId": "789ff698-1cb6-49b7-f835-63f457335de6",
        "colab": {
          "base_uri": "https://localhost:8080/"
        }
      },
      "id": "kWzd9-f5aZud",
      "execution_count": 1,
      "outputs": [
        {
          "output_type": "stream",
          "name": "stdout",
          "text": [
            "Mounted at /content/drive\n"
          ]
        }
      ]
    },
    {
      "cell_type": "code",
      "execution_count": 2,
      "id": "f9997174",
      "metadata": {
        "id": "f9997174"
      },
      "outputs": [],
      "source": [
        "import numpy as np"
      ]
    },
    {
      "cell_type": "code",
      "execution_count": 3,
      "id": "28f1fa15",
      "metadata": {
        "id": "28f1fa15"
      },
      "outputs": [],
      "source": [
        "ruta = \"/content/drive/MyDrive/cd_udemy_fg/medallas.csv\""
      ]
    },
    {
      "cell_type": "markdown",
      "id": "86bc61bc",
      "metadata": {
        "id": "86bc61bc"
      },
      "source": [
        "Ahora que tenemos nuestra ruta cargada, vamos a usar un método de NumPy que se llama `genfromtxt()`, que se podría traducir más o menos como *\"**gen**erar desde un texto\"*. Este método es parecido a `read_csv()` de Pandas, pero tiene algunas particularidades que iremos conociendo.\n",
        "\n",
        "Lo voy a aplicar tal cual como lo haría con `read_csv()` (colocando solo la ruta del archivo), para comenzar desde allí. No te asustes cuando recibas un mensaje de error."
      ]
    },
    {
      "cell_type": "code",
      "execution_count": 4,
      "id": "58248f15",
      "metadata": {
        "id": "58248f15",
        "outputId": "c2a19d8b-a2de-4838-b1ad-dc1c8f4bf32f",
        "colab": {
          "base_uri": "https://localhost:8080/",
          "height": 654
        }
      },
      "outputs": [
        {
          "output_type": "error",
          "ename": "ValueError",
          "evalue": "Some errors were detected !\n    Line #15 (got 2 columns instead of 1)\n    Line #17 (got 2 columns instead of 1)\n    Line #20 (got 2 columns instead of 1)\n    Line #22 (got 2 columns instead of 1)\n    Line #24 (got 2 columns instead of 1)\n    Line #27 (got 4 columns instead of 1)\n    Line #36 (got 2 columns instead of 1)\n    Line #39 (got 3 columns instead of 1)\n    Line #44 (got 4 columns instead of 1)\n    Line #63 (got 2 columns instead of 1)\n    Line #65 (got 2 columns instead of 1)\n    Line #70 (got 2 columns instead of 1)\n    Line #72 (got 3 columns instead of 1)\n    Line #73 (got 3 columns instead of 1)\n    Line #74 (got 4 columns instead of 1)\n    Line #77 (got 2 columns instead of 1)\n    Line #78 (got 2 columns instead of 1)\n    Line #82 (got 2 columns instead of 1)\n    Line #86 (got 3 columns instead of 1)",
          "traceback": [
            "\u001b[0;31m---------------------------------------------------------------------------\u001b[0m",
            "\u001b[0;31mValueError\u001b[0m                                Traceback (most recent call last)",
            "\u001b[0;32m<ipython-input-4-ca5c1bcd3fe2>\u001b[0m in \u001b[0;36m<cell line: 0>\u001b[0;34m()\u001b[0m\n\u001b[0;32m----> 1\u001b[0;31m \u001b[0marray\u001b[0m \u001b[0;34m=\u001b[0m \u001b[0mnp\u001b[0m\u001b[0;34m.\u001b[0m\u001b[0mgenfromtxt\u001b[0m\u001b[0;34m(\u001b[0m\u001b[0mruta\u001b[0m\u001b[0;34m)\u001b[0m\u001b[0;34m\u001b[0m\u001b[0;34m\u001b[0m\u001b[0m\n\u001b[0m\u001b[1;32m      2\u001b[0m \u001b[0marray\u001b[0m\u001b[0;34m\u001b[0m\u001b[0;34m\u001b[0m\u001b[0m\n",
            "\u001b[0;32m/usr/local/lib/python3.11/dist-packages/numpy/lib/_npyio_impl.py\u001b[0m in \u001b[0;36mgenfromtxt\u001b[0;34m(fname, dtype, comments, delimiter, skip_header, skip_footer, converters, missing_values, filling_values, usecols, names, excludelist, deletechars, replace_space, autostrip, case_sensitive, defaultfmt, unpack, usemask, loose, invalid_raise, max_rows, encoding, ndmin, like)\u001b[0m\n\u001b[1;32m   2330\u001b[0m             \u001b[0;31m# Raise an exception ?\u001b[0m\u001b[0;34m\u001b[0m\u001b[0;34m\u001b[0m\u001b[0m\n\u001b[1;32m   2331\u001b[0m             \u001b[0;32mif\u001b[0m \u001b[0minvalid_raise\u001b[0m\u001b[0;34m:\u001b[0m\u001b[0;34m\u001b[0m\u001b[0;34m\u001b[0m\u001b[0m\n\u001b[0;32m-> 2332\u001b[0;31m                 \u001b[0;32mraise\u001b[0m \u001b[0mValueError\u001b[0m\u001b[0;34m(\u001b[0m\u001b[0merrmsg\u001b[0m\u001b[0;34m)\u001b[0m\u001b[0;34m\u001b[0m\u001b[0;34m\u001b[0m\u001b[0m\n\u001b[0m\u001b[1;32m   2333\u001b[0m             \u001b[0;31m# Issue a warning ?\u001b[0m\u001b[0;34m\u001b[0m\u001b[0;34m\u001b[0m\u001b[0m\n\u001b[1;32m   2334\u001b[0m             \u001b[0;32melse\u001b[0m\u001b[0;34m:\u001b[0m\u001b[0;34m\u001b[0m\u001b[0;34m\u001b[0m\u001b[0m\n",
            "\u001b[0;31mValueError\u001b[0m: Some errors were detected !\n    Line #15 (got 2 columns instead of 1)\n    Line #17 (got 2 columns instead of 1)\n    Line #20 (got 2 columns instead of 1)\n    Line #22 (got 2 columns instead of 1)\n    Line #24 (got 2 columns instead of 1)\n    Line #27 (got 4 columns instead of 1)\n    Line #36 (got 2 columns instead of 1)\n    Line #39 (got 3 columns instead of 1)\n    Line #44 (got 4 columns instead of 1)\n    Line #63 (got 2 columns instead of 1)\n    Line #65 (got 2 columns instead of 1)\n    Line #70 (got 2 columns instead of 1)\n    Line #72 (got 3 columns instead of 1)\n    Line #73 (got 3 columns instead of 1)\n    Line #74 (got 4 columns instead of 1)\n    Line #77 (got 2 columns instead of 1)\n    Line #78 (got 2 columns instead of 1)\n    Line #82 (got 2 columns instead of 1)\n    Line #86 (got 3 columns instead of 1)"
          ]
        }
      ],
      "source": [
        "array = np.genfromtxt(ruta)\n",
        "array"
      ]
    },
    {
      "cell_type": "markdown",
      "id": "c2d57a7d",
      "metadata": {
        "id": "c2d57a7d"
      },
      "source": [
        "Bien, como puedes ver, estamos obteniendo un mensaje de error que nos muestra un montón de alertas. Ciertamente hay mucho que atender aquí, y eso es porque hay que tener en cuenta una cosa muy importante: aquí no estamos guardando nuestros datos en un **DataFrame** de Pandas, sino en un **array* de NumPy, que son dos cosas muy diferentes.\n",
        "\n",
        "En primer lugar hay que considerar que los **arrays** solo pueden contener un solo tipo de datos a la vez, por lo que se genera un conflicto con nuestro archivo de origen, ya que contiene **tanto números como texto**, por lo que no podemos meter esa información dentro de un array así como así.\n",
        "\n",
        "Por esa razón, para poder lograr nuestro objetivo, vamos a tener que meter mano en los parámetros del método `genfromtxt()`, para poder adecuarlo a nuestras necesidades.\n",
        "\n",
        "En primer lugar, `genfromtxt()` requiere que le específiquemos qué tipo de delimitador tienen nuestros datos."
      ]
    },
    {
      "cell_type": "code",
      "execution_count": 5,
      "id": "6cd4aa06",
      "metadata": {
        "id": "6cd4aa06",
        "outputId": "82db09e6-f29a-46f3-b05f-1ff6760dde97",
        "colab": {
          "base_uri": "https://localhost:8080/"
        }
      },
      "outputs": [
        {
          "output_type": "execute_result",
          "data": {
            "text/plain": [
              "array([[ nan,  nan,  nan,  nan,  nan],\n",
              "       [ nan,   1.,   2.,   3.,  nan],\n",
              "       [ nan,   2.,   2.,   4.,  nan],\n",
              "       [ 17.,   7.,  22.,  46.,  nan],\n",
              "       [  1.,   1.,   5.,   7.,  nan],\n",
              "       [ nan,   3.,   4.,   7.,  nan],\n",
              "       [  2.,  nan,  nan,   2.,  nan],\n",
              "       [ nan,   1.,  nan,   1.,  nan],\n",
              "       [  1.,   3.,   3.,   7.,  nan],\n",
              "       [  3.,   1.,   3.,   7.,  nan],\n",
              "       [  1.,  nan,  nan,   1.,  nan],\n",
              "       [ nan,  nan,   1.,   1.,  nan],\n",
              "       [  7.,   6.,   8.,  21.,  nan],\n",
              "       [  3.,   1.,   2.,   6.,  nan],\n",
              "       [ nan,  nan,   1.,   1.,  nan],\n",
              "       [  7.,   6.,  11.,  24.,  nan],\n",
              "       [  2.,   4.,   6.,  12.,  nan],\n",
              "       [ nan,   4.,   1.,   5.,  nan],\n",
              "       [  3.,   3.,   2.,   8.,  nan],\n",
              "       [ nan,  nan,   1.,   1.,  nan],\n",
              "       [  7.,   3.,   5.,  15.,  nan],\n",
              "       [  4.,   4.,   3.,  11.,  nan],\n",
              "       [  3.,   4.,   4.,  11.,  nan],\n",
              "       [ nan,   3.,   2.,   5.,  nan],\n",
              "       [  2.,   1.,  nan,   3.,  nan],\n",
              "       [  1.,   1.,   4.,   6.,  nan],\n",
              "       [ 39.,  41.,  33., 113.,  nan],\n",
              "       [  1.,  nan,   1.,   2.,  nan],\n",
              "       [  1.,   1.,   2.,   4.,  nan],\n",
              "       [  1.,  nan,   1.,   2.,  nan],\n",
              "       [ nan,  nan,   2.,   2.,  nan],\n",
              "       [  1.,  12.,  11.,  33.,  nan],\n",
              "       [  2.,   5.,   1.,   8.,  nan],\n",
              "       [  1.,  11.,  16.,  37.,  nan],\n",
              "       [ nan,  nan,   1.,   1.,  nan],\n",
              "       [ 22.,  21.,  22.,  65.,  nan],\n",
              "       [  2.,   1.,   1.,   4.,  nan],\n",
              "       [ nan,  nan,   1.,   1.,  nan],\n",
              "       [ nan,   2.,   3.,   6.,  nan],\n",
              "       [  6.,   7.,   7.,   2.,  nan],\n",
              "       [  1.,   2.,   4.,   7.,  nan],\n",
              "       [  1.,   1.,   3.,   5.,  nan],\n",
              "       [  2.,  nan,   2.,   4.,  nan],\n",
              "       [  3.,   2.,   2.,   7.,  nan],\n",
              "       [  2.,  nan,   2.,   4.,  nan],\n",
              "       [  1.,   1.,   2.,   4.,  nan],\n",
              "       [  4.,   1.,   4.,   9.,  nan],\n",
              "       [ 27.,  14.,  17.,  58.,  nan],\n",
              "       [ nan,   1.,   1.,   2.,  nan],\n",
              "       [ nan,  nan,   8.,   8.,  nan],\n",
              "       [  4.,   4.,   2.,   1.,  nan],\n",
              "       [  2.,  nan,  nan,   2.,  nan],\n",
              "       [ nan,  nan,   1.,   1.,  nan],\n",
              "       [ nan,   2.,   1.,   3.,  nan],\n",
              "       [  1.,  nan,   1.,   2.,  nan],\n",
              "       [ nan,   1.,  nan,   1.,  nan],\n",
              "       [ nan,   1.,   1.,   2.,  nan],\n",
              "       [ nan,  nan,   4.,   4.,  nan],\n",
              "       [ nan,   1.,   3.,   4.,  nan],\n",
              "       [  1.,  nan,  nan,   1.,  nan],\n",
              "       [ nan,   1.,  nan,   1.,  nan],\n",
              "       [  1.,  12.,  14.,  36.,  nan],\n",
              "       [  7.,   6.,   7.,   2.,  nan],\n",
              "       [ nan,   1.,   1.,   2.,  nan],\n",
              "       [ nan,   1.,  nan,   1.,  nan],\n",
              "       [  4.,   2.,   2.,   8.,  nan],\n",
              "       [  1.,   2.,   1.,   4.,  nan],\n",
              "       [  4.,   5.,   5.,  14.,  nan],\n",
              "       [  1.,   1.,   2.,   4.,  nan],\n",
              "       [  1.,  nan,  nan,   1.,  nan],\n",
              "       [  2.,  nan,   1.,   3.,  nan],\n",
              "       [  6.,   4.,   1.,   2.,  nan],\n",
              "       [ nan,  nan,   1.,   1.,  nan],\n",
              "       [ 38.,  32.,  18.,  88.,  nan],\n",
              "       [  2.,  28.,  23.,  71.,  nan],\n",
              "       [  1.,   3.,  nan,   4.,  nan],\n",
              "       [ nan,   1.,   2.,   3.,  nan],\n",
              "       [ nan,   1.,  nan,   1.,  nan],\n",
              "       [  3.,   1.,   5.,   9.,  nan],\n",
              "       [  1.,   2.,   1.,   4.,  nan],\n",
              "       [  3.,   1.,   1.,   5.,  nan],\n",
              "       [  1.,   2.,  nan,   3.,  nan],\n",
              "       [  3.,   8.,   6.,  17.,  nan],\n",
              "       [  3.,   6.,  nan,   9.,  nan],\n",
              "       [  3.,   4.,   6.,  13.,  nan],\n",
              "       [ nan,  nan,   1.,   1.,  nan],\n",
              "       [  1.,  nan,   1.,   2.,  nan],\n",
              "       [  1.,   1.,  nan,   2.,  nan],\n",
              "       [  2.,   2.,   9.,  13.,  nan],\n",
              "       [ nan,   1.,  nan,   1.,  nan],\n",
              "       [  2.,   1.,   1.,   4.,  nan],\n",
              "       [  1.,   6.,  12.,  19.,  nan],\n",
              "       [  3.,  nan,   2.,   5.,  nan],\n",
              "       [  1.,   3.,  nan,   4.,  nan]])"
            ]
          },
          "metadata": {},
          "execution_count": 5
        }
      ],
      "source": [
        "array = np.genfromtxt(ruta, delimiter=',')\n",
        "array"
      ]
    },
    {
      "cell_type": "markdown",
      "id": "bd81691f",
      "metadata": {
        "id": "bd81691f"
      },
      "source": [
        "Ahora ya no recibimos un mensaje de error, pero ciertamente nuestros datos están repletos de valores `NaN`. Esto lo podemos atender con el parámetro `filling_values`."
      ]
    },
    {
      "cell_type": "code",
      "execution_count": null,
      "id": "e427ccda",
      "metadata": {
        "id": "e427ccda",
        "outputId": "f1a728fb-aed0-4941-c106-e3d5008bcdf8"
      },
      "outputs": [
        {
          "data": {
            "text/plain": [
              "array([[  0.,   0.,   0.,   0.,   0.],\n",
              "       [  0.,   1.,   2.,   3.,   0.],\n",
              "       [  0.,   2.,   2.,   4.,   0.],\n",
              "       [ 17.,   7.,  22.,  46.,   0.],\n",
              "       [  1.,   1.,   5.,   7.,   0.],\n",
              "       [  0.,   3.,   4.,   7.,   0.],\n",
              "       [  2.,   0.,   0.,   2.,   0.],\n",
              "       [  0.,   1.,   0.,   1.,   0.],\n",
              "       [  1.,   3.,   3.,   7.,   0.],\n",
              "       [  3.,   1.,   3.,   7.,   0.],\n",
              "       [  1.,   0.,   0.,   1.,   0.],\n",
              "       [  0.,   0.,   1.,   1.,   0.],\n",
              "       [  7.,   6.,   8.,  21.,   0.],\n",
              "       [  3.,   1.,   2.,   6.,   0.],\n",
              "       [  0.,   0.,   1.,   1.,   0.],\n",
              "       [  7.,   6.,  11.,  24.,   0.],\n",
              "       [  2.,   4.,   6.,  12.,   0.],\n",
              "       [  0.,   4.,   1.,   5.,   0.],\n",
              "       [  3.,   3.,   2.,   8.,   0.],\n",
              "       [  0.,   0.,   1.,   1.,   0.],\n",
              "       [  7.,   3.,   5.,  15.,   0.],\n",
              "       [  4.,   4.,   3.,  11.,   0.],\n",
              "       [  3.,   4.,   4.,  11.,   0.],\n",
              "       [  0.,   3.,   2.,   5.,   0.],\n",
              "       [  2.,   1.,   0.,   3.,   0.],\n",
              "       [  1.,   1.,   4.,   6.,   0.],\n",
              "       [ 39.,  41.,  33., 113.,   0.],\n",
              "       [  1.,   0.,   1.,   2.,   0.],\n",
              "       [  1.,   1.,   2.,   4.,   0.],\n",
              "       [  1.,   0.,   1.,   2.,   0.],\n",
              "       [  0.,   0.,   2.,   2.,   0.],\n",
              "       [  1.,  12.,  11.,  33.,   0.],\n",
              "       [  2.,   5.,   1.,   8.,   0.],\n",
              "       [  1.,  11.,  16.,  37.,   0.],\n",
              "       [  0.,   0.,   1.,   1.,   0.],\n",
              "       [ 22.,  21.,  22.,  65.,   0.],\n",
              "       [  2.,   1.,   1.,   4.,   0.],\n",
              "       [  0.,   0.,   1.,   1.,   0.],\n",
              "       [  0.,   2.,   3.,   6.,   0.],\n",
              "       [  6.,   7.,   7.,   2.,   0.],\n",
              "       [  1.,   2.,   4.,   7.,   0.],\n",
              "       [  1.,   1.,   3.,   5.,   0.],\n",
              "       [  2.,   0.,   2.,   4.,   0.],\n",
              "       [  3.,   2.,   2.,   7.,   0.],\n",
              "       [  2.,   0.,   2.,   4.,   0.],\n",
              "       [  1.,   1.,   2.,   4.,   0.],\n",
              "       [  4.,   1.,   4.,   9.,   0.],\n",
              "       [ 27.,  14.,  17.,  58.,   0.],\n",
              "       [  0.,   1.,   1.,   2.,   0.],\n",
              "       [  0.,   0.,   8.,   8.,   0.],\n",
              "       [  4.,   4.,   2.,   1.,   0.],\n",
              "       [  2.,   0.,   0.,   2.,   0.],\n",
              "       [  0.,   0.,   1.,   1.,   0.],\n",
              "       [  0.,   2.,   1.,   3.,   0.],\n",
              "       [  1.,   0.,   1.,   2.,   0.],\n",
              "       [  0.,   1.,   0.,   1.,   0.],\n",
              "       [  0.,   1.,   1.,   2.,   0.],\n",
              "       [  0.,   0.,   4.,   4.,   0.],\n",
              "       [  0.,   1.,   3.,   4.,   0.],\n",
              "       [  1.,   0.,   0.,   1.,   0.],\n",
              "       [  0.,   1.,   0.,   1.,   0.],\n",
              "       [  1.,  12.,  14.,  36.,   0.],\n",
              "       [  7.,   6.,   7.,   2.,   0.],\n",
              "       [  0.,   1.,   1.,   2.,   0.],\n",
              "       [  0.,   1.,   0.,   1.,   0.],\n",
              "       [  4.,   2.,   2.,   8.,   0.],\n",
              "       [  1.,   2.,   1.,   4.,   0.],\n",
              "       [  4.,   5.,   5.,  14.,   0.],\n",
              "       [  1.,   1.,   2.,   4.,   0.],\n",
              "       [  1.,   0.,   0.,   1.,   0.],\n",
              "       [  2.,   0.,   1.,   3.,   0.],\n",
              "       [  6.,   4.,   1.,   2.,   0.],\n",
              "       [  0.,   0.,   1.,   1.,   0.],\n",
              "       [ 38.,  32.,  18.,  88.,   0.],\n",
              "       [  2.,  28.,  23.,  71.,   0.],\n",
              "       [  1.,   3.,   0.,   4.,   0.],\n",
              "       [  0.,   1.,   2.,   3.,   0.],\n",
              "       [  0.,   1.,   0.,   1.,   0.],\n",
              "       [  3.,   1.,   5.,   9.,   0.],\n",
              "       [  1.,   2.,   1.,   4.,   0.],\n",
              "       [  3.,   1.,   1.,   5.,   0.],\n",
              "       [  1.,   2.,   0.,   3.,   0.],\n",
              "       [  3.,   8.,   6.,  17.,   0.],\n",
              "       [  3.,   6.,   0.,   9.,   0.],\n",
              "       [  3.,   4.,   6.,  13.,   0.],\n",
              "       [  0.,   0.,   1.,   1.,   0.],\n",
              "       [  1.,   0.,   1.,   2.,   0.],\n",
              "       [  1.,   1.,   0.,   2.,   0.],\n",
              "       [  2.,   2.,   9.,  13.,   0.],\n",
              "       [  0.,   1.,   0.,   1.,   0.],\n",
              "       [  2.,   1.,   1.,   4.,   0.],\n",
              "       [  1.,   6.,  12.,  19.,   0.],\n",
              "       [  3.,   0.,   2.,   5.,   0.],\n",
              "       [  1.,   3.,   0.,   4.,   0.]])"
            ]
          },
          "execution_count": 5,
          "metadata": {},
          "output_type": "execute_result"
        }
      ],
      "source": [
        "array = np.genfromtxt(ruta, delimiter=',', filling_values=0)\n",
        "array"
      ]
    },
    {
      "cell_type": "markdown",
      "id": "a2ea4ea4",
      "metadata": {
        "id": "a2ea4ea4"
      },
      "source": [
        "Genial, ahora ya no tenemos valores `NaN`, pero observa este detalle: la primera fila del array contiene puros ceros, y esto es porque en realidad lo que había aquí eran los títulos de las columnas.\n",
        "\n",
        "Vamos a ayudar a `getfromtxt()` a eliminarlas, diciéndole que ignore los encabezados de columna, ya que no tiene sentido tener ceros ahí."
      ]
    },
    {
      "cell_type": "code",
      "execution_count": null,
      "id": "00593a22",
      "metadata": {
        "id": "00593a22",
        "outputId": "45a9c2e8-1775-4f41-9d55-03c26626076b"
      },
      "outputs": [
        {
          "data": {
            "text/plain": [
              "array([[  0.,   1.,   2.,   3.,   0.],\n",
              "       [  0.,   2.,   2.,   4.,   0.],\n",
              "       [ 17.,   7.,  22.,  46.,   0.],\n",
              "       [  1.,   1.,   5.,   7.,   0.],\n",
              "       [  0.,   3.,   4.,   7.,   0.],\n",
              "       [  2.,   0.,   0.,   2.,   0.],\n",
              "       [  0.,   1.,   0.,   1.,   0.],\n",
              "       [  1.,   3.,   3.,   7.,   0.],\n",
              "       [  3.,   1.,   3.,   7.,   0.],\n",
              "       [  1.,   0.,   0.,   1.,   0.],\n",
              "       [  0.,   0.,   1.,   1.,   0.],\n",
              "       [  7.,   6.,   8.,  21.,   0.],\n",
              "       [  3.,   1.,   2.,   6.,   0.],\n",
              "       [  0.,   0.,   1.,   1.,   0.],\n",
              "       [  7.,   6.,  11.,  24.,   0.],\n",
              "       [  2.,   4.,   6.,  12.,   0.],\n",
              "       [  0.,   4.,   1.,   5.,   0.],\n",
              "       [  3.,   3.,   2.,   8.,   0.],\n",
              "       [  0.,   0.,   1.,   1.,   0.],\n",
              "       [  7.,   3.,   5.,  15.,   0.],\n",
              "       [  4.,   4.,   3.,  11.,   0.],\n",
              "       [  3.,   4.,   4.,  11.,   0.],\n",
              "       [  0.,   3.,   2.,   5.,   0.],\n",
              "       [  2.,   1.,   0.,   3.,   0.],\n",
              "       [  1.,   1.,   4.,   6.,   0.],\n",
              "       [ 39.,  41.,  33., 113.,   0.],\n",
              "       [  1.,   0.,   1.,   2.,   0.],\n",
              "       [  1.,   1.,   2.,   4.,   0.],\n",
              "       [  1.,   0.,   1.,   2.,   0.],\n",
              "       [  0.,   0.,   2.,   2.,   0.],\n",
              "       [  1.,  12.,  11.,  33.,   0.],\n",
              "       [  2.,   5.,   1.,   8.,   0.],\n",
              "       [  1.,  11.,  16.,  37.,   0.],\n",
              "       [  0.,   0.,   1.,   1.,   0.],\n",
              "       [ 22.,  21.,  22.,  65.,   0.],\n",
              "       [  2.,   1.,   1.,   4.,   0.],\n",
              "       [  0.,   0.,   1.,   1.,   0.],\n",
              "       [  0.,   2.,   3.,   6.,   0.],\n",
              "       [  6.,   7.,   7.,   2.,   0.],\n",
              "       [  1.,   2.,   4.,   7.,   0.],\n",
              "       [  1.,   1.,   3.,   5.,   0.],\n",
              "       [  2.,   0.,   2.,   4.,   0.],\n",
              "       [  3.,   2.,   2.,   7.,   0.],\n",
              "       [  2.,   0.,   2.,   4.,   0.],\n",
              "       [  1.,   1.,   2.,   4.,   0.],\n",
              "       [  4.,   1.,   4.,   9.,   0.],\n",
              "       [ 27.,  14.,  17.,  58.,   0.],\n",
              "       [  0.,   1.,   1.,   2.,   0.],\n",
              "       [  0.,   0.,   8.,   8.,   0.],\n",
              "       [  4.,   4.,   2.,   1.,   0.],\n",
              "       [  2.,   0.,   0.,   2.,   0.],\n",
              "       [  0.,   0.,   1.,   1.,   0.],\n",
              "       [  0.,   2.,   1.,   3.,   0.],\n",
              "       [  1.,   0.,   1.,   2.,   0.],\n",
              "       [  0.,   1.,   0.,   1.,   0.],\n",
              "       [  0.,   1.,   1.,   2.,   0.],\n",
              "       [  0.,   0.,   4.,   4.,   0.],\n",
              "       [  0.,   1.,   3.,   4.,   0.],\n",
              "       [  1.,   0.,   0.,   1.,   0.],\n",
              "       [  0.,   1.,   0.,   1.,   0.],\n",
              "       [  1.,  12.,  14.,  36.,   0.],\n",
              "       [  7.,   6.,   7.,   2.,   0.],\n",
              "       [  0.,   1.,   1.,   2.,   0.],\n",
              "       [  0.,   1.,   0.,   1.,   0.],\n",
              "       [  4.,   2.,   2.,   8.,   0.],\n",
              "       [  1.,   2.,   1.,   4.,   0.],\n",
              "       [  4.,   5.,   5.,  14.,   0.],\n",
              "       [  1.,   1.,   2.,   4.,   0.],\n",
              "       [  1.,   0.,   0.,   1.,   0.],\n",
              "       [  2.,   0.,   1.,   3.,   0.],\n",
              "       [  6.,   4.,   1.,   2.,   0.],\n",
              "       [  0.,   0.,   1.,   1.,   0.],\n",
              "       [ 38.,  32.,  18.,  88.,   0.],\n",
              "       [  2.,  28.,  23.,  71.,   0.],\n",
              "       [  1.,   3.,   0.,   4.,   0.],\n",
              "       [  0.,   1.,   2.,   3.,   0.],\n",
              "       [  0.,   1.,   0.,   1.,   0.],\n",
              "       [  3.,   1.,   5.,   9.,   0.],\n",
              "       [  1.,   2.,   1.,   4.,   0.],\n",
              "       [  3.,   1.,   1.,   5.,   0.],\n",
              "       [  1.,   2.,   0.,   3.,   0.],\n",
              "       [  3.,   8.,   6.,  17.,   0.],\n",
              "       [  3.,   6.,   0.,   9.,   0.],\n",
              "       [  3.,   4.,   6.,  13.,   0.],\n",
              "       [  0.,   0.,   1.,   1.,   0.],\n",
              "       [  1.,   0.,   1.,   2.,   0.],\n",
              "       [  1.,   1.,   0.,   2.,   0.],\n",
              "       [  2.,   2.,   9.,  13.,   0.],\n",
              "       [  0.,   1.,   0.,   1.,   0.],\n",
              "       [  2.,   1.,   1.,   4.,   0.],\n",
              "       [  1.,   6.,  12.,  19.,   0.],\n",
              "       [  3.,   0.,   2.,   5.,   0.],\n",
              "       [  1.,   3.,   0.,   4.,   0.]])"
            ]
          },
          "execution_count": 6,
          "metadata": {},
          "output_type": "execute_result"
        }
      ],
      "source": [
        "array = np.genfromtxt(ruta, delimiter=',', filling_values=0, skip_header=1)\n",
        "array"
      ]
    },
    {
      "cell_type": "markdown",
      "id": "8721da33",
      "metadata": {
        "id": "8721da33"
      },
      "source": [
        "Y por último, puedes ver que los números se han cargado como **floats**, porque eso es lo que hace `genfromtxt()` por defecto. Pero por supuesto podemos modificar esto con el parámetro `dtype`:"
      ]
    },
    {
      "cell_type": "code",
      "execution_count": null,
      "id": "51d008b1",
      "metadata": {
        "id": "51d008b1",
        "outputId": "6413d513-00b7-4b1c-eb60-9abfc79ab7a3"
      },
      "outputs": [
        {
          "data": {
            "text/plain": [
              "array([[  0,   1,   2,   3,   0],\n",
              "       [  0,   2,   2,   4,   0],\n",
              "       [ 17,   7,  22,  46,   0],\n",
              "       [  1,   1,   5,   7,   0],\n",
              "       [  0,   3,   4,   7,   0],\n",
              "       [  2,   0,   0,   2,   0],\n",
              "       [  0,   1,   0,   1,   0],\n",
              "       [  1,   3,   3,   7,   0],\n",
              "       [  3,   1,   3,   7,   0],\n",
              "       [  1,   0,   0,   1,   0],\n",
              "       [  0,   0,   1,   1,   0],\n",
              "       [  7,   6,   8,  21,   0],\n",
              "       [  3,   1,   2,   6,   0],\n",
              "       [  0,   0,   1,   1,   0],\n",
              "       [  7,   6,  11,  24,   0],\n",
              "       [  2,   4,   6,  12,   0],\n",
              "       [  0,   4,   1,   5,   0],\n",
              "       [  3,   3,   2,   8,   0],\n",
              "       [  0,   0,   1,   1,   0],\n",
              "       [  7,   3,   5,  15,   0],\n",
              "       [  4,   4,   3,  11,   0],\n",
              "       [  3,   4,   4,  11,   0],\n",
              "       [  0,   3,   2,   5,   0],\n",
              "       [  2,   1,   0,   3,   0],\n",
              "       [  1,   1,   4,   6,   0],\n",
              "       [ 39,  41,  33, 113,   0],\n",
              "       [  1,   0,   1,   2,   0],\n",
              "       [  1,   1,   2,   4,   0],\n",
              "       [  1,   0,   1,   2,   0],\n",
              "       [  0,   0,   2,   2,   0],\n",
              "       [  1,  12,  11,  33,   0],\n",
              "       [  2,   5,   1,   8,   0],\n",
              "       [  1,  11,  16,  37,   0],\n",
              "       [  0,   0,   1,   1,   0],\n",
              "       [ 22,  21,  22,  65,   0],\n",
              "       [  2,   1,   1,   4,   0],\n",
              "       [  0,   0,   1,   1,   0],\n",
              "       [  0,   2,   3,   6,   0],\n",
              "       [  6,   7,   7,   2,   0],\n",
              "       [  1,   2,   4,   7,   0],\n",
              "       [  1,   1,   3,   5,   0],\n",
              "       [  2,   0,   2,   4,   0],\n",
              "       [  3,   2,   2,   7,   0],\n",
              "       [  2,   0,   2,   4,   0],\n",
              "       [  1,   1,   2,   4,   0],\n",
              "       [  4,   1,   4,   9,   0],\n",
              "       [ 27,  14,  17,  58,   0],\n",
              "       [  0,   1,   1,   2,   0],\n",
              "       [  0,   0,   8,   8,   0],\n",
              "       [  4,   4,   2,   1,   0],\n",
              "       [  2,   0,   0,   2,   0],\n",
              "       [  0,   0,   1,   1,   0],\n",
              "       [  0,   2,   1,   3,   0],\n",
              "       [  1,   0,   1,   2,   0],\n",
              "       [  0,   1,   0,   1,   0],\n",
              "       [  0,   1,   1,   2,   0],\n",
              "       [  0,   0,   4,   4,   0],\n",
              "       [  0,   1,   3,   4,   0],\n",
              "       [  1,   0,   0,   1,   0],\n",
              "       [  0,   1,   0,   1,   0],\n",
              "       [  1,  12,  14,  36,   0],\n",
              "       [  7,   6,   7,   2,   0],\n",
              "       [  0,   1,   1,   2,   0],\n",
              "       [  0,   1,   0,   1,   0],\n",
              "       [  4,   2,   2,   8,   0],\n",
              "       [  1,   2,   1,   4,   0],\n",
              "       [  4,   5,   5,  14,   0],\n",
              "       [  1,   1,   2,   4,   0],\n",
              "       [  1,   0,   0,   1,   0],\n",
              "       [  2,   0,   1,   3,   0],\n",
              "       [  6,   4,   1,   2,   0],\n",
              "       [  0,   0,   1,   1,   0],\n",
              "       [ 38,  32,  18,  88,   0],\n",
              "       [  2,  28,  23,  71,   0],\n",
              "       [  1,   3,   0,   4,   0],\n",
              "       [  0,   1,   2,   3,   0],\n",
              "       [  0,   1,   0,   1,   0],\n",
              "       [  3,   1,   5,   9,   0],\n",
              "       [  1,   2,   1,   4,   0],\n",
              "       [  3,   1,   1,   5,   0],\n",
              "       [  1,   2,   0,   3,   0],\n",
              "       [  3,   8,   6,  17,   0],\n",
              "       [  3,   6,   0,   9,   0],\n",
              "       [  3,   4,   6,  13,   0],\n",
              "       [  0,   0,   1,   1,   0],\n",
              "       [  1,   0,   1,   2,   0],\n",
              "       [  1,   1,   0,   2,   0],\n",
              "       [  2,   2,   9,  13,   0],\n",
              "       [  0,   1,   0,   1,   0],\n",
              "       [  2,   1,   1,   4,   0],\n",
              "       [  1,   6,  12,  19,   0],\n",
              "       [  3,   0,   2,   5,   0],\n",
              "       [  1,   3,   0,   4,   0]])"
            ]
          },
          "execution_count": 7,
          "metadata": {},
          "output_type": "execute_result"
        }
      ],
      "source": [
        "array = np.genfromtxt(ruta, delimiter=',', filling_values=0, skip_header=1, dtype=int)\n",
        "array"
      ]
    },
    {
      "cell_type": "markdown",
      "id": "e4d715e7",
      "metadata": {
        "id": "e4d715e7"
      },
      "source": [
        "Todo esto te ha dado herramientas más que suficientes para importar datos externos dentro de un array.\n",
        "\n",
        "¿Pero que tal si lo que queremos es exportar nuestros arrays de NumPy para guardarlos en archivos externos?. Lo hagamos con un pequeño array de prueba."
      ]
    },
    {
      "cell_type": "code",
      "execution_count": null,
      "id": "4fd5f1dd",
      "metadata": {
        "id": "4fd5f1dd"
      },
      "outputs": [],
      "source": [
        "array_ejemplo = np.array([[1, 2, 3],\n",
        "                         [4, 5, 6]])"
      ]
    },
    {
      "cell_type": "markdown",
      "id": "20eb3063",
      "metadata": {
        "id": "20eb3063"
      },
      "source": [
        "Ahora voy a crear la ruta de salida (es decir, dónde quiero que se guarde mi nuevo archivo):"
      ]
    },
    {
      "cell_type": "code",
      "execution_count": null,
      "id": "5a780772",
      "metadata": {
        "id": "5a780772"
      },
      "outputs": [],
      "source": [
        "ruta = \"C:/Users/Win10/Downloads/00 - FEDE/Udemy/Python para Data Science/Día 8/10 - Importación y Exportación de Datos con Numpy/mi_array.csv\""
      ]
    },
    {
      "cell_type": "markdown",
      "id": "d3968267",
      "metadata": {
        "id": "d3968267"
      },
      "source": [
        "Y a continuación voy a aplicar el método `savetxt()` para exportarlo.\n",
        "\n",
        "En este caso necesitaré brindarle tres argumentos a `savetxt()`:\n",
        "* la ruta de destino\n",
        "* el array que quiero guardar en ese archivo\n",
        "* y ya que quiero crear un archivo .csv, debo informarle qué delimitador quiero usar"
      ]
    },
    {
      "cell_type": "code",
      "execution_count": null,
      "id": "12cb25a1",
      "metadata": {
        "id": "12cb25a1"
      },
      "outputs": [],
      "source": [
        "np.savetxt(ruta,\n",
        "          array_ejemplo,\n",
        "          delimiter=',')"
      ]
    },
    {
      "cell_type": "markdown",
      "id": "2f4e6295",
      "metadata": {
        "id": "2f4e6295"
      },
      "source": [
        "De esta manera, nuestro archivo se ha exportado correctamente, pero puede sorprenderte un detalle: si bien nuestro array contenía los números enteros del 1 al 6, nuestro archivo resultante tiene unos números inmensos y extraños.\n",
        "\n",
        "![](https://github.com/MyAppsTest/ciencia_datos_udemy_fg/blob/main/exportado%20con%20numeros%20cientificos.png?raw=1)\n",
        "\n",
        " ¿Por qué ha sucedido esto? Lo que estás viendo es el resultado del comportamiento predeterminado de la función `savetxt()` de NumPy, la cual guarda los números en un formato de punto flotante con notación científica.\n",
        "\n",
        " Esto es así porque por defecto, `savetxt()` utiliza el parámetro `fmt` (que significa *formato*) con el valor `%.18e`, que sirve para escribir los números de esa manera, ya que es una representación detallada y con notación científica.\n",
        "\n",
        "Si prefieres que los números se guarden como **enteros**, o con un formato más sencillo, puedes especificar un formato diferente."
      ]
    },
    {
      "cell_type": "code",
      "execution_count": null,
      "id": "aa630505",
      "metadata": {
        "id": "aa630505"
      },
      "outputs": [],
      "source": [
        "np.savetxt(ruta,\n",
        "          array_ejemplo,\n",
        "          delimiter=',',\n",
        "          fmt='%d')"
      ]
    },
    {
      "cell_type": "markdown",
      "id": "43cc8592",
      "metadata": {
        "id": "43cc8592"
      },
      "source": [
        "Antes de ejecutar la celda anterior, no olvides eliminar el archivo que creaste antes, ya que de lo contrario te va a devolver un error.\n",
        "\n",
        "Ahora sí, hemos logrado que nuestro array se guarde tal como queríamos.\n",
        "\n",
        "![](https://github.com/MyAppsTest/ciencia_datos_udemy_fg/blob/main/exportado%20con%20numeros%20enteros.png?raw=1)"
      ]
    },
    {
      "cell_type": "code",
      "execution_count": null,
      "id": "a75b6b50",
      "metadata": {
        "id": "a75b6b50"
      },
      "outputs": [],
      "source": []
    }
  ],
  "metadata": {
    "kernelspec": {
      "display_name": "Python 3 (ipykernel)",
      "language": "python",
      "name": "python3"
    },
    "language_info": {
      "codemirror_mode": {
        "name": "ipython",
        "version": 3
      },
      "file_extension": ".py",
      "mimetype": "text/x-python",
      "name": "python",
      "nbconvert_exporter": "python",
      "pygments_lexer": "ipython3",
      "version": "3.11.5"
    },
    "colab": {
      "provenance": [],
      "include_colab_link": true
    }
  },
  "nbformat": 4,
  "nbformat_minor": 5
}