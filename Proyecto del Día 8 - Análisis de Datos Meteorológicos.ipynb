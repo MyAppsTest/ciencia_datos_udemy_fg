{
  "cells": [
    {
      "cell_type": "markdown",
      "metadata": {
        "id": "view-in-github",
        "colab_type": "text"
      },
      "source": [
        "<a href=\"https://colab.research.google.com/github/MyAppsTest/ciencia_datos_udemy_fg/blob/main/Proyecto%20del%20D%C3%ADa%208%20-%20An%C3%A1lisis%20de%20Datos%20Meteorol%C3%B3gicos.ipynb\" target=\"_parent\"><img src=\"https://colab.research.google.com/assets/colab-badge.svg\" alt=\"Open In Colab\"/></a>"
      ]
    },
    {
      "cell_type": "markdown",
      "id": "1ff9b7b5",
      "metadata": {
        "id": "1ff9b7b5"
      },
      "source": [
        "# Proyecto del Día 8 - Análisis de Datos Meteorológicos\n",
        "\n",
        "Este proyecto consiste en analizar un conjunto de datos meteorológicos utilizando Python y NumPy.\n",
        "El objetivo es aplicar las técnicas de manipulación de arrays, tratamiento de datos faltantes,\n",
        "y análisis estadístico básico en un conjunto de datos del mundo real.\n",
        "\n",
        "## Tareas a Realizar:\n",
        "1. Crear un DataFrame a partir de los datos del archivo **datos_meteorologicos.csv** provisto en esta lección.\n",
        "2. Realizar observaciones iniciales de los datos con Pandas.\n",
        "3. Convertir las columnas del DataFrame en arrays de NumPy.\n",
        "4. Identificar los datos faltantes en los arrays, y reemplazarlos por el promedio de los valores del respectivo array.\n",
        "5. Realizar análisis estadísticos básicos. Mínimamente se espera que puedas extraer la siguiente información de tus arrays:\n",
        "    * La temperatura promedio\n",
        "    * El total de precipitaciones\n",
        "    * La máxima humedad registrada\n",
        "    * La fecha más calurosa\n",
        "    * La fehca más fría\n",
        "6. Exportar los resultados a un nuevo archivo CSV.\n",
        "\n",
        "¡Mucha suerte con tu proyecto!\n"
      ]
    },
    {
      "cell_type": "code",
      "source": [
        "from google.colab import drive\n",
        "drive.mount('/content/drive')"
      ],
      "metadata": {
        "id": "VCNmd-g1JLBD",
        "outputId": "bc0440db-2dbd-482f-c39a-d0b47499c518",
        "colab": {
          "base_uri": "https://localhost:8080/"
        }
      },
      "id": "VCNmd-g1JLBD",
      "execution_count": 1,
      "outputs": [
        {
          "output_type": "stream",
          "name": "stdout",
          "text": [
            "Mounted at /content/drive\n"
          ]
        }
      ]
    },
    {
      "cell_type": "code",
      "source": [
        "ruta=\"/content/drive/MyDrive/cd_udemy_fg/datos_meteorologicos.csv\""
      ],
      "metadata": {
        "id": "g1k1DqzDJink"
      },
      "id": "g1k1DqzDJink",
      "execution_count": 2,
      "outputs": []
    },
    {
      "cell_type": "code",
      "source": [
        "import pandas as pd"
      ],
      "metadata": {
        "id": "-3x_qm6jJ4De"
      },
      "id": "-3x_qm6jJ4De",
      "execution_count": 3,
      "outputs": []
    },
    {
      "cell_type": "code",
      "source": [
        "import numpy as np"
      ],
      "metadata": {
        "id": "TfSBfWM-J7Bm"
      },
      "id": "TfSBfWM-J7Bm",
      "execution_count": 4,
      "outputs": []
    },
    {
      "cell_type": "markdown",
      "id": "6b416605",
      "metadata": {
        "id": "6b416605"
      },
      "source": [
        "### 1. Crear un DataFrame a partir de los datos del archivo datos_meteorologicos.csv provisto en esta lección."
      ]
    },
    {
      "cell_type": "code",
      "execution_count": 5,
      "id": "4dabf813",
      "metadata": {
        "id": "4dabf813"
      },
      "outputs": [],
      "source": [
        "df = pd.read_csv(ruta)"
      ]
    },
    {
      "cell_type": "markdown",
      "id": "bd5ba486",
      "metadata": {
        "id": "bd5ba486"
      },
      "source": [
        "### 2. Realizar observaciones iniciales de los datos con Pandas."
      ]
    },
    {
      "cell_type": "code",
      "execution_count": 8,
      "id": "f6fb247d",
      "metadata": {
        "scrolled": true,
        "colab": {
          "base_uri": "https://localhost:8080/"
        },
        "id": "f6fb247d",
        "outputId": "9896785c-80bf-4056-9472-7d58c834ad2a"
      },
      "outputs": [
        {
          "output_type": "stream",
          "name": "stdout",
          "text": [
            "<class 'pandas.core.frame.DataFrame'>\n",
            "RangeIndex: 5110 entries, 0 to 5109\n",
            "Data columns (total 4 columns):\n",
            " #   Column         Non-Null Count  Dtype  \n",
            "---  ------         --------------  -----  \n",
            " 0   Fecha          5110 non-null   object \n",
            " 1   Temperatura    4855 non-null   float64\n",
            " 2   Precipitación  4855 non-null   float64\n",
            " 3   Humedad        4855 non-null   float64\n",
            "dtypes: float64(3), object(1)\n",
            "memory usage: 159.8+ KB\n"
          ]
        }
      ],
      "source": [
        "df.info()"
      ]
    },
    {
      "cell_type": "code",
      "source": [
        "df"
      ],
      "metadata": {
        "id": "_Rp0Zch5LGyt",
        "outputId": "3d8af1d4-5751-4fc7-b9e5-5a610c59315f",
        "colab": {
          "base_uri": "https://localhost:8080/",
          "height": 423
        }
      },
      "id": "_Rp0Zch5LGyt",
      "execution_count": 12,
      "outputs": [
        {
          "output_type": "execute_result",
          "data": {
            "text/plain": [
              "           Fecha  Temperatura  Precipitación    Humedad\n",
              "0     01/01/2010    17.440675      10.957482  52.384637\n",
              "1     02/01/2010    25.759468       5.315628  30.633530\n",
              "2     03/01/2010    20.138169      15.317706  41.496715\n",
              "3     04/01/2010    17.244159      13.151008  90.684704\n",
              "4     05/01/2010    11.182740      16.413667  22.116422\n",
              "...          ...          ...            ...        ...\n",
              "5105  24/12/2023    -9.554692      12.700998  50.094533\n",
              "5106  25/12/2023     2.837831       5.475686  92.456057\n",
              "5107  26/12/2023    29.873597       4.615012  18.362847\n",
              "5108  27/12/2023          NaN            NaN        NaN\n",
              "5109  28/12/2023    37.308043       7.330510  50.646211\n",
              "\n",
              "[5110 rows x 4 columns]"
            ],
            "text/html": [
              "\n",
              "  <div id=\"df-da96f837-5fc5-4c47-b0b8-6e90969d4576\" class=\"colab-df-container\">\n",
              "    <div>\n",
              "<style scoped>\n",
              "    .dataframe tbody tr th:only-of-type {\n",
              "        vertical-align: middle;\n",
              "    }\n",
              "\n",
              "    .dataframe tbody tr th {\n",
              "        vertical-align: top;\n",
              "    }\n",
              "\n",
              "    .dataframe thead th {\n",
              "        text-align: right;\n",
              "    }\n",
              "</style>\n",
              "<table border=\"1\" class=\"dataframe\">\n",
              "  <thead>\n",
              "    <tr style=\"text-align: right;\">\n",
              "      <th></th>\n",
              "      <th>Fecha</th>\n",
              "      <th>Temperatura</th>\n",
              "      <th>Precipitación</th>\n",
              "      <th>Humedad</th>\n",
              "    </tr>\n",
              "  </thead>\n",
              "  <tbody>\n",
              "    <tr>\n",
              "      <th>0</th>\n",
              "      <td>01/01/2010</td>\n",
              "      <td>17.440675</td>\n",
              "      <td>10.957482</td>\n",
              "      <td>52.384637</td>\n",
              "    </tr>\n",
              "    <tr>\n",
              "      <th>1</th>\n",
              "      <td>02/01/2010</td>\n",
              "      <td>25.759468</td>\n",
              "      <td>5.315628</td>\n",
              "      <td>30.633530</td>\n",
              "    </tr>\n",
              "    <tr>\n",
              "      <th>2</th>\n",
              "      <td>03/01/2010</td>\n",
              "      <td>20.138169</td>\n",
              "      <td>15.317706</td>\n",
              "      <td>41.496715</td>\n",
              "    </tr>\n",
              "    <tr>\n",
              "      <th>3</th>\n",
              "      <td>04/01/2010</td>\n",
              "      <td>17.244159</td>\n",
              "      <td>13.151008</td>\n",
              "      <td>90.684704</td>\n",
              "    </tr>\n",
              "    <tr>\n",
              "      <th>4</th>\n",
              "      <td>05/01/2010</td>\n",
              "      <td>11.182740</td>\n",
              "      <td>16.413667</td>\n",
              "      <td>22.116422</td>\n",
              "    </tr>\n",
              "    <tr>\n",
              "      <th>...</th>\n",
              "      <td>...</td>\n",
              "      <td>...</td>\n",
              "      <td>...</td>\n",
              "      <td>...</td>\n",
              "    </tr>\n",
              "    <tr>\n",
              "      <th>5105</th>\n",
              "      <td>24/12/2023</td>\n",
              "      <td>-9.554692</td>\n",
              "      <td>12.700998</td>\n",
              "      <td>50.094533</td>\n",
              "    </tr>\n",
              "    <tr>\n",
              "      <th>5106</th>\n",
              "      <td>25/12/2023</td>\n",
              "      <td>2.837831</td>\n",
              "      <td>5.475686</td>\n",
              "      <td>92.456057</td>\n",
              "    </tr>\n",
              "    <tr>\n",
              "      <th>5107</th>\n",
              "      <td>26/12/2023</td>\n",
              "      <td>29.873597</td>\n",
              "      <td>4.615012</td>\n",
              "      <td>18.362847</td>\n",
              "    </tr>\n",
              "    <tr>\n",
              "      <th>5108</th>\n",
              "      <td>27/12/2023</td>\n",
              "      <td>NaN</td>\n",
              "      <td>NaN</td>\n",
              "      <td>NaN</td>\n",
              "    </tr>\n",
              "    <tr>\n",
              "      <th>5109</th>\n",
              "      <td>28/12/2023</td>\n",
              "      <td>37.308043</td>\n",
              "      <td>7.330510</td>\n",
              "      <td>50.646211</td>\n",
              "    </tr>\n",
              "  </tbody>\n",
              "</table>\n",
              "<p>5110 rows × 4 columns</p>\n",
              "</div>\n",
              "    <div class=\"colab-df-buttons\">\n",
              "\n",
              "  <div class=\"colab-df-container\">\n",
              "    <button class=\"colab-df-convert\" onclick=\"convertToInteractive('df-da96f837-5fc5-4c47-b0b8-6e90969d4576')\"\n",
              "            title=\"Convert this dataframe to an interactive table.\"\n",
              "            style=\"display:none;\">\n",
              "\n",
              "  <svg xmlns=\"http://www.w3.org/2000/svg\" height=\"24px\" viewBox=\"0 -960 960 960\">\n",
              "    <path d=\"M120-120v-720h720v720H120Zm60-500h600v-160H180v160Zm220 220h160v-160H400v160Zm0 220h160v-160H400v160ZM180-400h160v-160H180v160Zm440 0h160v-160H620v160ZM180-180h160v-160H180v160Zm440 0h160v-160H620v160Z\"/>\n",
              "  </svg>\n",
              "    </button>\n",
              "\n",
              "  <style>\n",
              "    .colab-df-container {\n",
              "      display:flex;\n",
              "      gap: 12px;\n",
              "    }\n",
              "\n",
              "    .colab-df-convert {\n",
              "      background-color: #E8F0FE;\n",
              "      border: none;\n",
              "      border-radius: 50%;\n",
              "      cursor: pointer;\n",
              "      display: none;\n",
              "      fill: #1967D2;\n",
              "      height: 32px;\n",
              "      padding: 0 0 0 0;\n",
              "      width: 32px;\n",
              "    }\n",
              "\n",
              "    .colab-df-convert:hover {\n",
              "      background-color: #E2EBFA;\n",
              "      box-shadow: 0px 1px 2px rgba(60, 64, 67, 0.3), 0px 1px 3px 1px rgba(60, 64, 67, 0.15);\n",
              "      fill: #174EA6;\n",
              "    }\n",
              "\n",
              "    .colab-df-buttons div {\n",
              "      margin-bottom: 4px;\n",
              "    }\n",
              "\n",
              "    [theme=dark] .colab-df-convert {\n",
              "      background-color: #3B4455;\n",
              "      fill: #D2E3FC;\n",
              "    }\n",
              "\n",
              "    [theme=dark] .colab-df-convert:hover {\n",
              "      background-color: #434B5C;\n",
              "      box-shadow: 0px 1px 3px 1px rgba(0, 0, 0, 0.15);\n",
              "      filter: drop-shadow(0px 1px 2px rgba(0, 0, 0, 0.3));\n",
              "      fill: #FFFFFF;\n",
              "    }\n",
              "  </style>\n",
              "\n",
              "    <script>\n",
              "      const buttonEl =\n",
              "        document.querySelector('#df-da96f837-5fc5-4c47-b0b8-6e90969d4576 button.colab-df-convert');\n",
              "      buttonEl.style.display =\n",
              "        google.colab.kernel.accessAllowed ? 'block' : 'none';\n",
              "\n",
              "      async function convertToInteractive(key) {\n",
              "        const element = document.querySelector('#df-da96f837-5fc5-4c47-b0b8-6e90969d4576');\n",
              "        const dataTable =\n",
              "          await google.colab.kernel.invokeFunction('convertToInteractive',\n",
              "                                                    [key], {});\n",
              "        if (!dataTable) return;\n",
              "\n",
              "        const docLinkHtml = 'Like what you see? Visit the ' +\n",
              "          '<a target=\"_blank\" href=https://colab.research.google.com/notebooks/data_table.ipynb>data table notebook</a>'\n",
              "          + ' to learn more about interactive tables.';\n",
              "        element.innerHTML = '';\n",
              "        dataTable['output_type'] = 'display_data';\n",
              "        await google.colab.output.renderOutput(dataTable, element);\n",
              "        const docLink = document.createElement('div');\n",
              "        docLink.innerHTML = docLinkHtml;\n",
              "        element.appendChild(docLink);\n",
              "      }\n",
              "    </script>\n",
              "  </div>\n",
              "\n",
              "\n",
              "    <div id=\"df-93e62b40-2940-4c8c-bd48-cd6339d8a9c7\">\n",
              "      <button class=\"colab-df-quickchart\" onclick=\"quickchart('df-93e62b40-2940-4c8c-bd48-cd6339d8a9c7')\"\n",
              "                title=\"Suggest charts\"\n",
              "                style=\"display:none;\">\n",
              "\n",
              "<svg xmlns=\"http://www.w3.org/2000/svg\" height=\"24px\"viewBox=\"0 0 24 24\"\n",
              "     width=\"24px\">\n",
              "    <g>\n",
              "        <path d=\"M19 3H5c-1.1 0-2 .9-2 2v14c0 1.1.9 2 2 2h14c1.1 0 2-.9 2-2V5c0-1.1-.9-2-2-2zM9 17H7v-7h2v7zm4 0h-2V7h2v10zm4 0h-2v-4h2v4z\"/>\n",
              "    </g>\n",
              "</svg>\n",
              "      </button>\n",
              "\n",
              "<style>\n",
              "  .colab-df-quickchart {\n",
              "      --bg-color: #E8F0FE;\n",
              "      --fill-color: #1967D2;\n",
              "      --hover-bg-color: #E2EBFA;\n",
              "      --hover-fill-color: #174EA6;\n",
              "      --disabled-fill-color: #AAA;\n",
              "      --disabled-bg-color: #DDD;\n",
              "  }\n",
              "\n",
              "  [theme=dark] .colab-df-quickchart {\n",
              "      --bg-color: #3B4455;\n",
              "      --fill-color: #D2E3FC;\n",
              "      --hover-bg-color: #434B5C;\n",
              "      --hover-fill-color: #FFFFFF;\n",
              "      --disabled-bg-color: #3B4455;\n",
              "      --disabled-fill-color: #666;\n",
              "  }\n",
              "\n",
              "  .colab-df-quickchart {\n",
              "    background-color: var(--bg-color);\n",
              "    border: none;\n",
              "    border-radius: 50%;\n",
              "    cursor: pointer;\n",
              "    display: none;\n",
              "    fill: var(--fill-color);\n",
              "    height: 32px;\n",
              "    padding: 0;\n",
              "    width: 32px;\n",
              "  }\n",
              "\n",
              "  .colab-df-quickchart:hover {\n",
              "    background-color: var(--hover-bg-color);\n",
              "    box-shadow: 0 1px 2px rgba(60, 64, 67, 0.3), 0 1px 3px 1px rgba(60, 64, 67, 0.15);\n",
              "    fill: var(--button-hover-fill-color);\n",
              "  }\n",
              "\n",
              "  .colab-df-quickchart-complete:disabled,\n",
              "  .colab-df-quickchart-complete:disabled:hover {\n",
              "    background-color: var(--disabled-bg-color);\n",
              "    fill: var(--disabled-fill-color);\n",
              "    box-shadow: none;\n",
              "  }\n",
              "\n",
              "  .colab-df-spinner {\n",
              "    border: 2px solid var(--fill-color);\n",
              "    border-color: transparent;\n",
              "    border-bottom-color: var(--fill-color);\n",
              "    animation:\n",
              "      spin 1s steps(1) infinite;\n",
              "  }\n",
              "\n",
              "  @keyframes spin {\n",
              "    0% {\n",
              "      border-color: transparent;\n",
              "      border-bottom-color: var(--fill-color);\n",
              "      border-left-color: var(--fill-color);\n",
              "    }\n",
              "    20% {\n",
              "      border-color: transparent;\n",
              "      border-left-color: var(--fill-color);\n",
              "      border-top-color: var(--fill-color);\n",
              "    }\n",
              "    30% {\n",
              "      border-color: transparent;\n",
              "      border-left-color: var(--fill-color);\n",
              "      border-top-color: var(--fill-color);\n",
              "      border-right-color: var(--fill-color);\n",
              "    }\n",
              "    40% {\n",
              "      border-color: transparent;\n",
              "      border-right-color: var(--fill-color);\n",
              "      border-top-color: var(--fill-color);\n",
              "    }\n",
              "    60% {\n",
              "      border-color: transparent;\n",
              "      border-right-color: var(--fill-color);\n",
              "    }\n",
              "    80% {\n",
              "      border-color: transparent;\n",
              "      border-right-color: var(--fill-color);\n",
              "      border-bottom-color: var(--fill-color);\n",
              "    }\n",
              "    90% {\n",
              "      border-color: transparent;\n",
              "      border-bottom-color: var(--fill-color);\n",
              "    }\n",
              "  }\n",
              "</style>\n",
              "\n",
              "      <script>\n",
              "        async function quickchart(key) {\n",
              "          const quickchartButtonEl =\n",
              "            document.querySelector('#' + key + ' button');\n",
              "          quickchartButtonEl.disabled = true;  // To prevent multiple clicks.\n",
              "          quickchartButtonEl.classList.add('colab-df-spinner');\n",
              "          try {\n",
              "            const charts = await google.colab.kernel.invokeFunction(\n",
              "                'suggestCharts', [key], {});\n",
              "          } catch (error) {\n",
              "            console.error('Error during call to suggestCharts:', error);\n",
              "          }\n",
              "          quickchartButtonEl.classList.remove('colab-df-spinner');\n",
              "          quickchartButtonEl.classList.add('colab-df-quickchart-complete');\n",
              "        }\n",
              "        (() => {\n",
              "          let quickchartButtonEl =\n",
              "            document.querySelector('#df-93e62b40-2940-4c8c-bd48-cd6339d8a9c7 button');\n",
              "          quickchartButtonEl.style.display =\n",
              "            google.colab.kernel.accessAllowed ? 'block' : 'none';\n",
              "        })();\n",
              "      </script>\n",
              "    </div>\n",
              "\n",
              "  <div id=\"id_308f6eea-3d8a-40c7-b5d5-62762483f614\">\n",
              "    <style>\n",
              "      .colab-df-generate {\n",
              "        background-color: #E8F0FE;\n",
              "        border: none;\n",
              "        border-radius: 50%;\n",
              "        cursor: pointer;\n",
              "        display: none;\n",
              "        fill: #1967D2;\n",
              "        height: 32px;\n",
              "        padding: 0 0 0 0;\n",
              "        width: 32px;\n",
              "      }\n",
              "\n",
              "      .colab-df-generate:hover {\n",
              "        background-color: #E2EBFA;\n",
              "        box-shadow: 0px 1px 2px rgba(60, 64, 67, 0.3), 0px 1px 3px 1px rgba(60, 64, 67, 0.15);\n",
              "        fill: #174EA6;\n",
              "      }\n",
              "\n",
              "      [theme=dark] .colab-df-generate {\n",
              "        background-color: #3B4455;\n",
              "        fill: #D2E3FC;\n",
              "      }\n",
              "\n",
              "      [theme=dark] .colab-df-generate:hover {\n",
              "        background-color: #434B5C;\n",
              "        box-shadow: 0px 1px 3px 1px rgba(0, 0, 0, 0.15);\n",
              "        filter: drop-shadow(0px 1px 2px rgba(0, 0, 0, 0.3));\n",
              "        fill: #FFFFFF;\n",
              "      }\n",
              "    </style>\n",
              "    <button class=\"colab-df-generate\" onclick=\"generateWithVariable('df')\"\n",
              "            title=\"Generate code using this dataframe.\"\n",
              "            style=\"display:none;\">\n",
              "\n",
              "  <svg xmlns=\"http://www.w3.org/2000/svg\" height=\"24px\"viewBox=\"0 0 24 24\"\n",
              "       width=\"24px\">\n",
              "    <path d=\"M7,19H8.4L18.45,9,17,7.55,7,17.6ZM5,21V16.75L18.45,3.32a2,2,0,0,1,2.83,0l1.4,1.43a1.91,1.91,0,0,1,.58,1.4,1.91,1.91,0,0,1-.58,1.4L9.25,21ZM18.45,9,17,7.55Zm-12,3A5.31,5.31,0,0,0,4.9,8.1,5.31,5.31,0,0,0,1,6.5,5.31,5.31,0,0,0,4.9,4.9,5.31,5.31,0,0,0,6.5,1,5.31,5.31,0,0,0,8.1,4.9,5.31,5.31,0,0,0,12,6.5,5.46,5.46,0,0,0,6.5,12Z\"/>\n",
              "  </svg>\n",
              "    </button>\n",
              "    <script>\n",
              "      (() => {\n",
              "      const buttonEl =\n",
              "        document.querySelector('#id_308f6eea-3d8a-40c7-b5d5-62762483f614 button.colab-df-generate');\n",
              "      buttonEl.style.display =\n",
              "        google.colab.kernel.accessAllowed ? 'block' : 'none';\n",
              "\n",
              "      buttonEl.onclick = () => {\n",
              "        google.colab.notebook.generateWithVariable('df');\n",
              "      }\n",
              "      })();\n",
              "    </script>\n",
              "  </div>\n",
              "\n",
              "    </div>\n",
              "  </div>\n"
            ],
            "application/vnd.google.colaboratory.intrinsic+json": {
              "type": "dataframe",
              "variable_name": "df",
              "summary": "{\n  \"name\": \"df\",\n  \"rows\": 5110,\n  \"fields\": [\n    {\n      \"column\": \"Fecha\",\n      \"properties\": {\n        \"dtype\": \"string\",\n        \"num_unique_values\": 5110,\n        \"samples\": [\n          \"02/11/2022\",\n          \"06/04/2022\",\n          \"16/07/2020\"\n        ],\n        \"semantic_type\": \"\",\n        \"description\": \"\"\n      }\n    },\n    {\n      \"column\": \"Temperatura\",\n      \"properties\": {\n        \"dtype\": \"number\",\n        \"std\": 14.440465654592884,\n        \"min\": -9.996377518075391,\n        \"max\": 39.99820092713012,\n        \"num_unique_values\": 4855,\n        \"samples\": [\n          0.8862339691541248,\n          20.85176053205625,\n          4.668445792800377\n        ],\n        \"semantic_type\": \"\",\n        \"description\": \"\"\n      }\n    },\n    {\n      \"column\": \"Precipitaci\\u00f3n\",\n      \"properties\": {\n        \"dtype\": \"number\",\n        \"std\": 5.801841717550554,\n        \"min\": 0.0030076216171104,\n        \"max\": 19.999559035614457,\n        \"num_unique_values\": 4855,\n        \"samples\": [\n          11.308833777393676,\n          13.215379373690562,\n          11.939304250621763\n        ],\n        \"semantic_type\": \"\",\n        \"description\": \"\"\n      }\n    },\n    {\n      \"column\": \"Humedad\",\n      \"properties\": {\n        \"dtype\": \"number\",\n        \"std\": 26.096345066976262,\n        \"min\": 10.01497972062417,\n        \"max\": 99.99658156071747,\n        \"num_unique_values\": 4855,\n        \"samples\": [\n          75.59627548708937,\n          11.977558446251416,\n          30.429130403327488\n        ],\n        \"semantic_type\": \"\",\n        \"description\": \"\"\n      }\n    }\n  ]\n}"
            }
          },
          "metadata": {},
          "execution_count": 12
        }
      ]
    },
    {
      "cell_type": "markdown",
      "id": "9a6f36ea",
      "metadata": {
        "id": "9a6f36ea"
      },
      "source": [
        "### 3. Convertir las columnas del DataFrame en arrays de NumPy."
      ]
    },
    {
      "cell_type": "code",
      "execution_count": 30,
      "id": "04ee9183",
      "metadata": {
        "id": "04ee9183"
      },
      "outputs": [],
      "source": [
        "temperatura =df['Temperatura'].to_numpy()"
      ]
    },
    {
      "cell_type": "code",
      "source": [
        "temperatura"
      ],
      "metadata": {
        "id": "y8NoTS0-Kpx_",
        "outputId": "a0add815-edc4-4edb-9a09-256c8c0609ba",
        "colab": {
          "base_uri": "https://localhost:8080/"
        }
      },
      "id": "y8NoTS0-Kpx_",
      "execution_count": 31,
      "outputs": [
        {
          "output_type": "execute_result",
          "data": {
            "text/plain": [
              "array([17.4406752 , 25.75946832, 20.1381688 , ..., 29.87359717,\n",
              "               nan, 37.30804318])"
            ]
          },
          "metadata": {},
          "execution_count": 31
        }
      ]
    },
    {
      "cell_type": "markdown",
      "id": "ea34bb17",
      "metadata": {
        "id": "ea34bb17"
      },
      "source": [
        "### 4. Identificar los datos faltantes en los arrays, y reemplazarlos por el promedio de los valores del respectivo array."
      ]
    },
    {
      "cell_type": "code",
      "execution_count": 32,
      "id": "65f3ba49",
      "metadata": {
        "id": "65f3ba49"
      },
      "outputs": [],
      "source": [
        "prom_temperatura = np.nanmean(temperatura)"
      ]
    },
    {
      "cell_type": "code",
      "source": [
        "prom_temperatura"
      ],
      "metadata": {
        "id": "3w-vgvpdNw-N",
        "outputId": "af28964f-1046-4e9d-d4fc-3406ad99dc40",
        "colab": {
          "base_uri": "https://localhost:8080/"
        }
      },
      "id": "3w-vgvpdNw-N",
      "execution_count": 33,
      "outputs": [
        {
          "output_type": "execute_result",
          "data": {
            "text/plain": [
              "np.float64(14.889295723531715)"
            ]
          },
          "metadata": {},
          "execution_count": 33
        }
      ]
    },
    {
      "cell_type": "code",
      "source": [
        "tempera_prom = np.where(np.isnan(temperatura),prom_temperatura, temperatura)"
      ],
      "metadata": {
        "id": "1BY0aesZMW23"
      },
      "id": "1BY0aesZMW23",
      "execution_count": 34,
      "outputs": []
    },
    {
      "cell_type": "code",
      "source": [
        "tempera_prom"
      ],
      "metadata": {
        "id": "FDOYwGl_P6h7",
        "outputId": "15a22c66-2fa4-4cbc-fdd4-8e7ab324c7e8",
        "colab": {
          "base_uri": "https://localhost:8080/"
        }
      },
      "id": "FDOYwGl_P6h7",
      "execution_count": 35,
      "outputs": [
        {
          "output_type": "execute_result",
          "data": {
            "text/plain": [
              "array([17.4406752 , 25.75946832, 20.1381688 , ..., 29.87359717,\n",
              "       14.88929572, 37.30804318])"
            ]
          },
          "metadata": {},
          "execution_count": 35
        }
      ]
    },
    {
      "cell_type": "markdown",
      "id": "e9cc83f2",
      "metadata": {
        "id": "e9cc83f2"
      },
      "source": [
        "### 5. Realizar análisis estadísticos básicos.\n",
        "\n",
        "##### Temperatura promedio"
      ]
    },
    {
      "cell_type": "code",
      "execution_count": null,
      "id": "35631de2",
      "metadata": {
        "id": "35631de2"
      },
      "outputs": [],
      "source": []
    },
    {
      "cell_type": "markdown",
      "id": "3d5b50ca",
      "metadata": {
        "id": "3d5b50ca"
      },
      "source": [
        "##### Total de precipitaciones"
      ]
    },
    {
      "cell_type": "code",
      "execution_count": null,
      "id": "55ea942d",
      "metadata": {
        "id": "55ea942d"
      },
      "outputs": [],
      "source": []
    },
    {
      "cell_type": "markdown",
      "id": "37408d44",
      "metadata": {
        "id": "37408d44"
      },
      "source": [
        "##### Máxima humedad registrada"
      ]
    },
    {
      "cell_type": "code",
      "execution_count": null,
      "id": "915e24c5",
      "metadata": {
        "id": "915e24c5"
      },
      "outputs": [],
      "source": []
    },
    {
      "cell_type": "markdown",
      "id": "feabf8f5",
      "metadata": {
        "id": "feabf8f5"
      },
      "source": [
        "##### Fecha más calurosa"
      ]
    },
    {
      "cell_type": "code",
      "execution_count": null,
      "id": "bedde039",
      "metadata": {
        "id": "bedde039"
      },
      "outputs": [],
      "source": []
    },
    {
      "cell_type": "markdown",
      "id": "f30a99e0",
      "metadata": {
        "id": "f30a99e0"
      },
      "source": [
        "##### Fehca más fría"
      ]
    },
    {
      "cell_type": "code",
      "execution_count": null,
      "id": "68f820f0",
      "metadata": {
        "id": "68f820f0"
      },
      "outputs": [],
      "source": []
    },
    {
      "cell_type": "markdown",
      "id": "ff7d173c",
      "metadata": {
        "id": "ff7d173c"
      },
      "source": [
        "### 6. Exportar los resultados a un nuevo archivo CSV."
      ]
    },
    {
      "cell_type": "code",
      "execution_count": null,
      "id": "e0cdfaee",
      "metadata": {
        "id": "e0cdfaee"
      },
      "outputs": [],
      "source": []
    }
  ],
  "metadata": {
    "kernelspec": {
      "display_name": "Python 3 (ipykernel)",
      "language": "python",
      "name": "python3"
    },
    "language_info": {
      "codemirror_mode": {
        "name": "ipython",
        "version": 3
      },
      "file_extension": ".py",
      "mimetype": "text/x-python",
      "name": "python",
      "nbconvert_exporter": "python",
      "pygments_lexer": "ipython3",
      "version": "3.11.5"
    },
    "colab": {
      "provenance": [],
      "include_colab_link": true
    }
  },
  "nbformat": 4,
  "nbformat_minor": 5
}