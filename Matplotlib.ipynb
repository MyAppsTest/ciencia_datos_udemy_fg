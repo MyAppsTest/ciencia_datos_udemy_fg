{
  "nbformat": 4,
  "nbformat_minor": 0,
  "metadata": {
    "colab": {
      "provenance": [],
      "include_colab_link": true
    },
    "kernelspec": {
      "name": "python3",
      "display_name": "Python 3"
    },
    "language_info": {
      "name": "python"
    }
  },
  "cells": [
    {
      "cell_type": "markdown",
      "metadata": {
        "id": "view-in-github",
        "colab_type": "text"
      },
      "source": [
        "<a href=\"https://colab.research.google.com/github/MyAppsTest/ciencia_datos_udemy_fg/blob/main/Matplotlib.ipynb\" target=\"_parent\"><img src=\"https://colab.research.google.com/assets/colab-badge.svg\" alt=\"Open In Colab\"/></a>"
      ]
    },
    {
      "cell_type": "code",
      "execution_count": 8,
      "metadata": {
        "id": "73p9lzoB2IL-"
      },
      "outputs": [],
      "source": [
        "import matplotlib.pyplot as plt"
      ]
    },
    {
      "cell_type": "code",
      "source": [
        "%matplotlib inline"
      ],
      "metadata": {
        "id": "SZdcSTIf4cFS"
      },
      "execution_count": 9,
      "outputs": []
    },
    {
      "cell_type": "code",
      "source": [
        "from google.colab import drive\n",
        "drive.mount('/content/drive')"
      ],
      "metadata": {
        "id": "K2BxVkiP2ub7",
        "outputId": "ffe76c1d-3394-43ff-f5df-e04770b3361d",
        "colab": {
          "base_uri": "https://localhost:8080/"
        }
      },
      "execution_count": 1,
      "outputs": [
        {
          "output_type": "stream",
          "name": "stdout",
          "text": [
            "Mounted at /content/drive\n"
          ]
        }
      ]
    },
    {
      "cell_type": "code",
      "source": [
        "link = \"/content/drive/MyDrive/cd_udemy_fg/Lluvias_region_A.csv\""
      ],
      "metadata": {
        "id": "BztvolPq3-eN"
      },
      "execution_count": 2,
      "outputs": []
    },
    {
      "cell_type": "code",
      "source": [
        "import pandas as pd"
      ],
      "metadata": {
        "id": "IBZyzajo4Axf"
      },
      "execution_count": 3,
      "outputs": []
    },
    {
      "cell_type": "code",
      "source": [
        "df = pd.read_csv(link)"
      ],
      "metadata": {
        "id": "RKw5rwl34CYL"
      },
      "execution_count": 4,
      "outputs": []
    },
    {
      "cell_type": "code",
      "source": [
        "df"
      ],
      "metadata": {
        "id": "TpNo3PRs4F0B",
        "outputId": "b3c9717b-e5e1-475e-cfaf-010c891348c9",
        "colab": {
          "base_uri": "https://localhost:8080/",
          "height": 269
        }
      },
      "execution_count": 5,
      "outputs": [
        {
          "output_type": "execute_result",
          "data": {
            "text/plain": [
              "     region  enero  febrero  marzo  abril   mayo  junio  julio  agosto  \\\n",
              "0  A CORUNA  240.5    293.4   31.0   80.6  149.5  108.9   44.6    21.8   \n",
              "1  ALBACETE   68.1     28.0   26.2   65.3   25.4   50.0    2.0    34.5   \n",
              "2  ALICANTE   49.2      3.7   63.2   85.8   57.2   20.0    9.2     5.0   \n",
              "3   ALMERIA   56.3      5.2   35.8   43.1   38.8   16.9   10.2     1.9   \n",
              "4     ARABA   96.8     79.9   38.0   52.0   37.7  107.8    8.5    17.7   \n",
              "5  ASTURIAS  196.9    138.4   34.4   73.1   67.4  131.2   22.5    19.2   \n",
              "6     AVILA   67.6    104.5    5.6   83.4   25.7   44.4    5.5    14.2   \n",
              "\n",
              "   septiembre  octubre  noviembre  diciembre   anual  \n",
              "0        96.5    154.5      100.8      214.8  1536.9  \n",
              "1        48.0     44.8       33.1       14.1   439.5  \n",
              "2        44.0     41.1       47.4        1.8   427.6  \n",
              "3        17.4     27.3       32.6        3.2   288.7  \n",
              "4        63.3     38.5      212.2      197.3   949.7  \n",
              "5        90.3     74.2      309.8      205.3  1362.7  \n",
              "6        97.9     91.7       33.9       47.5   621.9  "
            ],
            "text/html": [
              "\n",
              "  <div id=\"df-52d10b69-6e37-4d57-ac5a-e5ea81bca3c5\" class=\"colab-df-container\">\n",
              "    <div>\n",
              "<style scoped>\n",
              "    .dataframe tbody tr th:only-of-type {\n",
              "        vertical-align: middle;\n",
              "    }\n",
              "\n",
              "    .dataframe tbody tr th {\n",
              "        vertical-align: top;\n",
              "    }\n",
              "\n",
              "    .dataframe thead th {\n",
              "        text-align: right;\n",
              "    }\n",
              "</style>\n",
              "<table border=\"1\" class=\"dataframe\">\n",
              "  <thead>\n",
              "    <tr style=\"text-align: right;\">\n",
              "      <th></th>\n",
              "      <th>region</th>\n",
              "      <th>enero</th>\n",
              "      <th>febrero</th>\n",
              "      <th>marzo</th>\n",
              "      <th>abril</th>\n",
              "      <th>mayo</th>\n",
              "      <th>junio</th>\n",
              "      <th>julio</th>\n",
              "      <th>agosto</th>\n",
              "      <th>septiembre</th>\n",
              "      <th>octubre</th>\n",
              "      <th>noviembre</th>\n",
              "      <th>diciembre</th>\n",
              "      <th>anual</th>\n",
              "    </tr>\n",
              "  </thead>\n",
              "  <tbody>\n",
              "    <tr>\n",
              "      <th>0</th>\n",
              "      <td>A CORUNA</td>\n",
              "      <td>240.5</td>\n",
              "      <td>293.4</td>\n",
              "      <td>31.0</td>\n",
              "      <td>80.6</td>\n",
              "      <td>149.5</td>\n",
              "      <td>108.9</td>\n",
              "      <td>44.6</td>\n",
              "      <td>21.8</td>\n",
              "      <td>96.5</td>\n",
              "      <td>154.5</td>\n",
              "      <td>100.8</td>\n",
              "      <td>214.8</td>\n",
              "      <td>1536.9</td>\n",
              "    </tr>\n",
              "    <tr>\n",
              "      <th>1</th>\n",
              "      <td>ALBACETE</td>\n",
              "      <td>68.1</td>\n",
              "      <td>28.0</td>\n",
              "      <td>26.2</td>\n",
              "      <td>65.3</td>\n",
              "      <td>25.4</td>\n",
              "      <td>50.0</td>\n",
              "      <td>2.0</td>\n",
              "      <td>34.5</td>\n",
              "      <td>48.0</td>\n",
              "      <td>44.8</td>\n",
              "      <td>33.1</td>\n",
              "      <td>14.1</td>\n",
              "      <td>439.5</td>\n",
              "    </tr>\n",
              "    <tr>\n",
              "      <th>2</th>\n",
              "      <td>ALICANTE</td>\n",
              "      <td>49.2</td>\n",
              "      <td>3.7</td>\n",
              "      <td>63.2</td>\n",
              "      <td>85.8</td>\n",
              "      <td>57.2</td>\n",
              "      <td>20.0</td>\n",
              "      <td>9.2</td>\n",
              "      <td>5.0</td>\n",
              "      <td>44.0</td>\n",
              "      <td>41.1</td>\n",
              "      <td>47.4</td>\n",
              "      <td>1.8</td>\n",
              "      <td>427.6</td>\n",
              "    </tr>\n",
              "    <tr>\n",
              "      <th>3</th>\n",
              "      <td>ALMERIA</td>\n",
              "      <td>56.3</td>\n",
              "      <td>5.2</td>\n",
              "      <td>35.8</td>\n",
              "      <td>43.1</td>\n",
              "      <td>38.8</td>\n",
              "      <td>16.9</td>\n",
              "      <td>10.2</td>\n",
              "      <td>1.9</td>\n",
              "      <td>17.4</td>\n",
              "      <td>27.3</td>\n",
              "      <td>32.6</td>\n",
              "      <td>3.2</td>\n",
              "      <td>288.7</td>\n",
              "    </tr>\n",
              "    <tr>\n",
              "      <th>4</th>\n",
              "      <td>ARABA</td>\n",
              "      <td>96.8</td>\n",
              "      <td>79.9</td>\n",
              "      <td>38.0</td>\n",
              "      <td>52.0</td>\n",
              "      <td>37.7</td>\n",
              "      <td>107.8</td>\n",
              "      <td>8.5</td>\n",
              "      <td>17.7</td>\n",
              "      <td>63.3</td>\n",
              "      <td>38.5</td>\n",
              "      <td>212.2</td>\n",
              "      <td>197.3</td>\n",
              "      <td>949.7</td>\n",
              "    </tr>\n",
              "    <tr>\n",
              "      <th>5</th>\n",
              "      <td>ASTURIAS</td>\n",
              "      <td>196.9</td>\n",
              "      <td>138.4</td>\n",
              "      <td>34.4</td>\n",
              "      <td>73.1</td>\n",
              "      <td>67.4</td>\n",
              "      <td>131.2</td>\n",
              "      <td>22.5</td>\n",
              "      <td>19.2</td>\n",
              "      <td>90.3</td>\n",
              "      <td>74.2</td>\n",
              "      <td>309.8</td>\n",
              "      <td>205.3</td>\n",
              "      <td>1362.7</td>\n",
              "    </tr>\n",
              "    <tr>\n",
              "      <th>6</th>\n",
              "      <td>AVILA</td>\n",
              "      <td>67.6</td>\n",
              "      <td>104.5</td>\n",
              "      <td>5.6</td>\n",
              "      <td>83.4</td>\n",
              "      <td>25.7</td>\n",
              "      <td>44.4</td>\n",
              "      <td>5.5</td>\n",
              "      <td>14.2</td>\n",
              "      <td>97.9</td>\n",
              "      <td>91.7</td>\n",
              "      <td>33.9</td>\n",
              "      <td>47.5</td>\n",
              "      <td>621.9</td>\n",
              "    </tr>\n",
              "  </tbody>\n",
              "</table>\n",
              "</div>\n",
              "    <div class=\"colab-df-buttons\">\n",
              "\n",
              "  <div class=\"colab-df-container\">\n",
              "    <button class=\"colab-df-convert\" onclick=\"convertToInteractive('df-52d10b69-6e37-4d57-ac5a-e5ea81bca3c5')\"\n",
              "            title=\"Convert this dataframe to an interactive table.\"\n",
              "            style=\"display:none;\">\n",
              "\n",
              "  <svg xmlns=\"http://www.w3.org/2000/svg\" height=\"24px\" viewBox=\"0 -960 960 960\">\n",
              "    <path d=\"M120-120v-720h720v720H120Zm60-500h600v-160H180v160Zm220 220h160v-160H400v160Zm0 220h160v-160H400v160ZM180-400h160v-160H180v160Zm440 0h160v-160H620v160ZM180-180h160v-160H180v160Zm440 0h160v-160H620v160Z\"/>\n",
              "  </svg>\n",
              "    </button>\n",
              "\n",
              "  <style>\n",
              "    .colab-df-container {\n",
              "      display:flex;\n",
              "      gap: 12px;\n",
              "    }\n",
              "\n",
              "    .colab-df-convert {\n",
              "      background-color: #E8F0FE;\n",
              "      border: none;\n",
              "      border-radius: 50%;\n",
              "      cursor: pointer;\n",
              "      display: none;\n",
              "      fill: #1967D2;\n",
              "      height: 32px;\n",
              "      padding: 0 0 0 0;\n",
              "      width: 32px;\n",
              "    }\n",
              "\n",
              "    .colab-df-convert:hover {\n",
              "      background-color: #E2EBFA;\n",
              "      box-shadow: 0px 1px 2px rgba(60, 64, 67, 0.3), 0px 1px 3px 1px rgba(60, 64, 67, 0.15);\n",
              "      fill: #174EA6;\n",
              "    }\n",
              "\n",
              "    .colab-df-buttons div {\n",
              "      margin-bottom: 4px;\n",
              "    }\n",
              "\n",
              "    [theme=dark] .colab-df-convert {\n",
              "      background-color: #3B4455;\n",
              "      fill: #D2E3FC;\n",
              "    }\n",
              "\n",
              "    [theme=dark] .colab-df-convert:hover {\n",
              "      background-color: #434B5C;\n",
              "      box-shadow: 0px 1px 3px 1px rgba(0, 0, 0, 0.15);\n",
              "      filter: drop-shadow(0px 1px 2px rgba(0, 0, 0, 0.3));\n",
              "      fill: #FFFFFF;\n",
              "    }\n",
              "  </style>\n",
              "\n",
              "    <script>\n",
              "      const buttonEl =\n",
              "        document.querySelector('#df-52d10b69-6e37-4d57-ac5a-e5ea81bca3c5 button.colab-df-convert');\n",
              "      buttonEl.style.display =\n",
              "        google.colab.kernel.accessAllowed ? 'block' : 'none';\n",
              "\n",
              "      async function convertToInteractive(key) {\n",
              "        const element = document.querySelector('#df-52d10b69-6e37-4d57-ac5a-e5ea81bca3c5');\n",
              "        const dataTable =\n",
              "          await google.colab.kernel.invokeFunction('convertToInteractive',\n",
              "                                                    [key], {});\n",
              "        if (!dataTable) return;\n",
              "\n",
              "        const docLinkHtml = 'Like what you see? Visit the ' +\n",
              "          '<a target=\"_blank\" href=https://colab.research.google.com/notebooks/data_table.ipynb>data table notebook</a>'\n",
              "          + ' to learn more about interactive tables.';\n",
              "        element.innerHTML = '';\n",
              "        dataTable['output_type'] = 'display_data';\n",
              "        await google.colab.output.renderOutput(dataTable, element);\n",
              "        const docLink = document.createElement('div');\n",
              "        docLink.innerHTML = docLinkHtml;\n",
              "        element.appendChild(docLink);\n",
              "      }\n",
              "    </script>\n",
              "  </div>\n",
              "\n",
              "\n",
              "    <div id=\"df-9aec9796-2c45-44f1-9e17-3743fd24effe\">\n",
              "      <button class=\"colab-df-quickchart\" onclick=\"quickchart('df-9aec9796-2c45-44f1-9e17-3743fd24effe')\"\n",
              "                title=\"Suggest charts\"\n",
              "                style=\"display:none;\">\n",
              "\n",
              "<svg xmlns=\"http://www.w3.org/2000/svg\" height=\"24px\"viewBox=\"0 0 24 24\"\n",
              "     width=\"24px\">\n",
              "    <g>\n",
              "        <path d=\"M19 3H5c-1.1 0-2 .9-2 2v14c0 1.1.9 2 2 2h14c1.1 0 2-.9 2-2V5c0-1.1-.9-2-2-2zM9 17H7v-7h2v7zm4 0h-2V7h2v10zm4 0h-2v-4h2v4z\"/>\n",
              "    </g>\n",
              "</svg>\n",
              "      </button>\n",
              "\n",
              "<style>\n",
              "  .colab-df-quickchart {\n",
              "      --bg-color: #E8F0FE;\n",
              "      --fill-color: #1967D2;\n",
              "      --hover-bg-color: #E2EBFA;\n",
              "      --hover-fill-color: #174EA6;\n",
              "      --disabled-fill-color: #AAA;\n",
              "      --disabled-bg-color: #DDD;\n",
              "  }\n",
              "\n",
              "  [theme=dark] .colab-df-quickchart {\n",
              "      --bg-color: #3B4455;\n",
              "      --fill-color: #D2E3FC;\n",
              "      --hover-bg-color: #434B5C;\n",
              "      --hover-fill-color: #FFFFFF;\n",
              "      --disabled-bg-color: #3B4455;\n",
              "      --disabled-fill-color: #666;\n",
              "  }\n",
              "\n",
              "  .colab-df-quickchart {\n",
              "    background-color: var(--bg-color);\n",
              "    border: none;\n",
              "    border-radius: 50%;\n",
              "    cursor: pointer;\n",
              "    display: none;\n",
              "    fill: var(--fill-color);\n",
              "    height: 32px;\n",
              "    padding: 0;\n",
              "    width: 32px;\n",
              "  }\n",
              "\n",
              "  .colab-df-quickchart:hover {\n",
              "    background-color: var(--hover-bg-color);\n",
              "    box-shadow: 0 1px 2px rgba(60, 64, 67, 0.3), 0 1px 3px 1px rgba(60, 64, 67, 0.15);\n",
              "    fill: var(--button-hover-fill-color);\n",
              "  }\n",
              "\n",
              "  .colab-df-quickchart-complete:disabled,\n",
              "  .colab-df-quickchart-complete:disabled:hover {\n",
              "    background-color: var(--disabled-bg-color);\n",
              "    fill: var(--disabled-fill-color);\n",
              "    box-shadow: none;\n",
              "  }\n",
              "\n",
              "  .colab-df-spinner {\n",
              "    border: 2px solid var(--fill-color);\n",
              "    border-color: transparent;\n",
              "    border-bottom-color: var(--fill-color);\n",
              "    animation:\n",
              "      spin 1s steps(1) infinite;\n",
              "  }\n",
              "\n",
              "  @keyframes spin {\n",
              "    0% {\n",
              "      border-color: transparent;\n",
              "      border-bottom-color: var(--fill-color);\n",
              "      border-left-color: var(--fill-color);\n",
              "    }\n",
              "    20% {\n",
              "      border-color: transparent;\n",
              "      border-left-color: var(--fill-color);\n",
              "      border-top-color: var(--fill-color);\n",
              "    }\n",
              "    30% {\n",
              "      border-color: transparent;\n",
              "      border-left-color: var(--fill-color);\n",
              "      border-top-color: var(--fill-color);\n",
              "      border-right-color: var(--fill-color);\n",
              "    }\n",
              "    40% {\n",
              "      border-color: transparent;\n",
              "      border-right-color: var(--fill-color);\n",
              "      border-top-color: var(--fill-color);\n",
              "    }\n",
              "    60% {\n",
              "      border-color: transparent;\n",
              "      border-right-color: var(--fill-color);\n",
              "    }\n",
              "    80% {\n",
              "      border-color: transparent;\n",
              "      border-right-color: var(--fill-color);\n",
              "      border-bottom-color: var(--fill-color);\n",
              "    }\n",
              "    90% {\n",
              "      border-color: transparent;\n",
              "      border-bottom-color: var(--fill-color);\n",
              "    }\n",
              "  }\n",
              "</style>\n",
              "\n",
              "      <script>\n",
              "        async function quickchart(key) {\n",
              "          const quickchartButtonEl =\n",
              "            document.querySelector('#' + key + ' button');\n",
              "          quickchartButtonEl.disabled = true;  // To prevent multiple clicks.\n",
              "          quickchartButtonEl.classList.add('colab-df-spinner');\n",
              "          try {\n",
              "            const charts = await google.colab.kernel.invokeFunction(\n",
              "                'suggestCharts', [key], {});\n",
              "          } catch (error) {\n",
              "            console.error('Error during call to suggestCharts:', error);\n",
              "          }\n",
              "          quickchartButtonEl.classList.remove('colab-df-spinner');\n",
              "          quickchartButtonEl.classList.add('colab-df-quickchart-complete');\n",
              "        }\n",
              "        (() => {\n",
              "          let quickchartButtonEl =\n",
              "            document.querySelector('#df-9aec9796-2c45-44f1-9e17-3743fd24effe button');\n",
              "          quickchartButtonEl.style.display =\n",
              "            google.colab.kernel.accessAllowed ? 'block' : 'none';\n",
              "        })();\n",
              "      </script>\n",
              "    </div>\n",
              "\n",
              "  <div id=\"id_749365ac-43ea-40ed-98ec-8377a3f69e29\">\n",
              "    <style>\n",
              "      .colab-df-generate {\n",
              "        background-color: #E8F0FE;\n",
              "        border: none;\n",
              "        border-radius: 50%;\n",
              "        cursor: pointer;\n",
              "        display: none;\n",
              "        fill: #1967D2;\n",
              "        height: 32px;\n",
              "        padding: 0 0 0 0;\n",
              "        width: 32px;\n",
              "      }\n",
              "\n",
              "      .colab-df-generate:hover {\n",
              "        background-color: #E2EBFA;\n",
              "        box-shadow: 0px 1px 2px rgba(60, 64, 67, 0.3), 0px 1px 3px 1px rgba(60, 64, 67, 0.15);\n",
              "        fill: #174EA6;\n",
              "      }\n",
              "\n",
              "      [theme=dark] .colab-df-generate {\n",
              "        background-color: #3B4455;\n",
              "        fill: #D2E3FC;\n",
              "      }\n",
              "\n",
              "      [theme=dark] .colab-df-generate:hover {\n",
              "        background-color: #434B5C;\n",
              "        box-shadow: 0px 1px 3px 1px rgba(0, 0, 0, 0.15);\n",
              "        filter: drop-shadow(0px 1px 2px rgba(0, 0, 0, 0.3));\n",
              "        fill: #FFFFFF;\n",
              "      }\n",
              "    </style>\n",
              "    <button class=\"colab-df-generate\" onclick=\"generateWithVariable('df')\"\n",
              "            title=\"Generate code using this dataframe.\"\n",
              "            style=\"display:none;\">\n",
              "\n",
              "  <svg xmlns=\"http://www.w3.org/2000/svg\" height=\"24px\"viewBox=\"0 0 24 24\"\n",
              "       width=\"24px\">\n",
              "    <path d=\"M7,19H8.4L18.45,9,17,7.55,7,17.6ZM5,21V16.75L18.45,3.32a2,2,0,0,1,2.83,0l1.4,1.43a1.91,1.91,0,0,1,.58,1.4,1.91,1.91,0,0,1-.58,1.4L9.25,21ZM18.45,9,17,7.55Zm-12,3A5.31,5.31,0,0,0,4.9,8.1,5.31,5.31,0,0,0,1,6.5,5.31,5.31,0,0,0,4.9,4.9,5.31,5.31,0,0,0,6.5,1,5.31,5.31,0,0,0,8.1,4.9,5.31,5.31,0,0,0,12,6.5,5.46,5.46,0,0,0,6.5,12Z\"/>\n",
              "  </svg>\n",
              "    </button>\n",
              "    <script>\n",
              "      (() => {\n",
              "      const buttonEl =\n",
              "        document.querySelector('#id_749365ac-43ea-40ed-98ec-8377a3f69e29 button.colab-df-generate');\n",
              "      buttonEl.style.display =\n",
              "        google.colab.kernel.accessAllowed ? 'block' : 'none';\n",
              "\n",
              "      buttonEl.onclick = () => {\n",
              "        google.colab.notebook.generateWithVariable('df');\n",
              "      }\n",
              "      })();\n",
              "    </script>\n",
              "  </div>\n",
              "\n",
              "    </div>\n",
              "  </div>\n"
            ],
            "application/vnd.google.colaboratory.intrinsic+json": {
              "type": "dataframe",
              "variable_name": "df",
              "summary": "{\n  \"name\": \"df\",\n  \"rows\": 7,\n  \"fields\": [\n    {\n      \"column\": \"region\",\n      \"properties\": {\n        \"dtype\": \"string\",\n        \"num_unique_values\": 7,\n        \"samples\": [\n          \"A CORUNA\",\n          \"ALBACETE\",\n          \"ASTURIAS\"\n        ],\n        \"semantic_type\": \"\",\n        \"description\": \"\"\n      }\n    },\n    {\n      \"column\": \"enero\",\n      \"properties\": {\n        \"dtype\": \"number\",\n        \"std\": 76.25137625612,\n        \"min\": 49.2,\n        \"max\": 240.5,\n        \"num_unique_values\": 7,\n        \"samples\": [\n          240.5,\n          68.1,\n          196.9\n        ],\n        \"semantic_type\": \"\",\n        \"description\": \"\"\n      }\n    },\n    {\n      \"column\": \"febrero\",\n      \"properties\": {\n        \"dtype\": \"number\",\n        \"std\": 102.00725464397127,\n        \"min\": 3.7,\n        \"max\": 293.4,\n        \"num_unique_values\": 7,\n        \"samples\": [\n          293.4,\n          28.0,\n          138.4\n        ],\n        \"semantic_type\": \"\",\n        \"description\": \"\"\n      }\n    },\n    {\n      \"column\": \"marzo\",\n      \"properties\": {\n        \"dtype\": \"number\",\n        \"std\": 17.060564385238173,\n        \"min\": 5.6,\n        \"max\": 63.2,\n        \"num_unique_values\": 7,\n        \"samples\": [\n          31.0,\n          26.2,\n          34.4\n        ],\n        \"semantic_type\": \"\",\n        \"description\": \"\"\n      }\n    },\n    {\n      \"column\": \"abril\",\n      \"properties\": {\n        \"dtype\": \"number\",\n        \"std\": 16.403542010071803,\n        \"min\": 43.1,\n        \"max\": 85.8,\n        \"num_unique_values\": 7,\n        \"samples\": [\n          80.6,\n          65.3,\n          73.1\n        ],\n        \"semantic_type\": \"\",\n        \"description\": \"\"\n      }\n    },\n    {\n      \"column\": \"mayo\",\n      \"properties\": {\n        \"dtype\": \"number\",\n        \"std\": 43.484458088357215,\n        \"min\": 25.4,\n        \"max\": 149.5,\n        \"num_unique_values\": 7,\n        \"samples\": [\n          149.5,\n          25.4,\n          67.4\n        ],\n        \"semantic_type\": \"\",\n        \"description\": \"\"\n      }\n    },\n    {\n      \"column\": \"junio\",\n      \"properties\": {\n        \"dtype\": \"number\",\n        \"std\": 46.62938476764972,\n        \"min\": 16.9,\n        \"max\": 131.2,\n        \"num_unique_values\": 7,\n        \"samples\": [\n          108.9,\n          50.0,\n          131.2\n        ],\n        \"semantic_type\": \"\",\n        \"description\": \"\"\n      }\n    },\n    {\n      \"column\": \"julio\",\n      \"properties\": {\n        \"dtype\": \"number\",\n        \"std\": 14.661156973769971,\n        \"min\": 2.0,\n        \"max\": 44.6,\n        \"num_unique_values\": 7,\n        \"samples\": [\n          44.6,\n          2.0,\n          22.5\n        ],\n        \"semantic_type\": \"\",\n        \"description\": \"\"\n      }\n    },\n    {\n      \"column\": \"agosto\",\n      \"properties\": {\n        \"dtype\": \"number\",\n        \"std\": 10.888176199546963,\n        \"min\": 1.9,\n        \"max\": 34.5,\n        \"num_unique_values\": 7,\n        \"samples\": [\n          21.8,\n          34.5,\n          19.2\n        ],\n        \"semantic_type\": \"\",\n        \"description\": \"\"\n      }\n    },\n    {\n      \"column\": \"septiembre\",\n      \"properties\": {\n        \"dtype\": \"number\",\n        \"std\": 30.856055977331106,\n        \"min\": 17.4,\n        \"max\": 97.9,\n        \"num_unique_values\": 7,\n        \"samples\": [\n          96.5,\n          48.0,\n          90.3\n        ],\n        \"semantic_type\": \"\",\n        \"description\": \"\"\n      }\n    },\n    {\n      \"column\": \"octubre\",\n      \"properties\": {\n        \"dtype\": \"number\",\n        \"std\": 44.476205516465285,\n        \"min\": 27.3,\n        \"max\": 154.5,\n        \"num_unique_values\": 7,\n        \"samples\": [\n          154.5,\n          44.8,\n          74.2\n        ],\n        \"semantic_type\": \"\",\n        \"description\": \"\"\n      }\n    },\n    {\n      \"column\": \"noviembre\",\n      \"properties\": {\n        \"dtype\": \"number\",\n        \"std\": 109.59307633674848,\n        \"min\": 32.6,\n        \"max\": 309.8,\n        \"num_unique_values\": 7,\n        \"samples\": [\n          100.8,\n          33.1,\n          309.8\n        ],\n        \"semantic_type\": \"\",\n        \"description\": \"\"\n      }\n    },\n    {\n      \"column\": \"diciembre\",\n      \"properties\": {\n        \"dtype\": \"number\",\n        \"std\": 102.34450691286806,\n        \"min\": 1.8,\n        \"max\": 214.8,\n        \"num_unique_values\": 7,\n        \"samples\": [\n          214.8,\n          14.1,\n          205.3\n        ],\n        \"semantic_type\": \"\",\n        \"description\": \"\"\n      }\n    },\n    {\n      \"column\": \"anual\",\n      \"properties\": {\n        \"dtype\": \"number\",\n        \"std\": 490.5351086896257,\n        \"min\": 288.7,\n        \"max\": 1536.9,\n        \"num_unique_values\": 7,\n        \"samples\": [\n          1536.9,\n          439.5,\n          1362.7\n        ],\n        \"semantic_type\": \"\",\n        \"description\": \"\"\n      }\n    }\n  ]\n}"
            }
          },
          "metadata": {},
          "execution_count": 5
        }
      ]
    },
    {
      "cell_type": "code",
      "source": [
        "fig = plt.figure()\n",
        "ax = plt.axes()"
      ],
      "metadata": {
        "id": "B30gNYVK4GTf",
        "outputId": "dde405a6-ea93-4801-cdc8-a1b0b8b10881",
        "colab": {
          "base_uri": "https://localhost:8080/",
          "height": 435
        }
      },
      "execution_count": 12,
      "outputs": [
        {
          "output_type": "display_data",
          "data": {
            "text/plain": [
              "<Figure size 640x480 with 1 Axes>"
            ],
            "image/png": "[encoded data removed]"
          },
          "metadata": {}
        }
      ]
    },
    {
      "cell_type": "code",
      "source": [
        "plt.grid()"
      ],
      "metadata": {
        "id": "_weOdezC4wH5",
        "outputId": "f19a5570-a002-4b96-887b-6f275f63e4c9",
        "colab": {
          "base_uri": "https://localhost:8080/",
          "height": 435
        }
      },
      "execution_count": 13,
      "outputs": [
        {
          "output_type": "display_data",
          "data": {
            "text/plain": [
              "<Figure size 640x480 with 1 Axes>"
            ],
            "image/png": "[encoded data removed]"
          },
          "metadata": {}
        }
      ]
    },
    {
      "cell_type": "code",
      "source": [
        "x = [1,2,3,5,5,6,7]\n",
        "y = [1,6,3,4,5,6,7]"
      ],
      "metadata": {
        "id": "0e-SVKo78acp"
      },
      "execution_count": 19,
      "outputs": []
    },
    {
      "cell_type": "code",
      "source": [
        "plt.grid()\n",
        "plt.plot(x,y,\"go-\");"
      ],
      "metadata": {
        "id": "XffsHXXA6zA9",
        "outputId": "24bc270d-c4f0-4484-a9a8-8751a95bfb94",
        "colab": {
          "base_uri": "https://localhost:8080/",
          "height": 430
        }
      },
      "execution_count": 29,
      "outputs": [
        {
          "output_type": "display_data",
          "data": {
            "text/plain": [
              "<Figure size 640x480 with 1 Axes>"
            ],
            "image/png": "[encoded data removed]"
          },
          "metadata": {}
        }
      ]
    },
    {
      "cell_type": "code",
      "source": [],
      "metadata": {
        "id": "s5AFaBHn68zD"
      },
      "execution_count": null,
      "outputs": []
    }
  ]
}