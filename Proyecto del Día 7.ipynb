{
  "cells": [
    {
      "cell_type": "markdown",
      "metadata": {
        "id": "view-in-github",
        "colab_type": "text"
      },
      "source": [
        "<a href=\"https://colab.research.google.com/github/MyAppsTest/ciencia_datos_udemy_fg/blob/main/Proyecto%20del%20D%C3%ADa%207.ipynb\" target=\"_parent\"><img src=\"https://colab.research.google.com/assets/colab-badge.svg\" alt=\"Open In Colab\"/></a>"
      ]
    },
    {
      "cell_type": "markdown",
      "id": "e9e58d8e",
      "metadata": {
        "id": "e9e58d8e"
      },
      "source": [
        "# Proyecto del Día 7 - Analizador de Ventas\n",
        "\n",
        "### Objetivo\n",
        "Crear un programa en Python que analice un conjunto de **datos de ventas de una tienda**. El programa debe realizar varias operaciones de Data Science para proporcionar información valiosa sobre las ventas de la tienda.\n",
        "\n",
        "### Consigna\n",
        "\n",
        "1. **Lectura de Datos**: Crea un DataFrame que contenga los datos provistos en el archivo **Datos_Ventas_Tienda.csv** provisto en esta lección. El archivo incluirá información como *fecha de venta*, *categoría de producto*, *cantidad vendida* y *precio*.\n",
        "2. **Fusión de Datos**: Crea un segundo DataFrame que contenga los datos del archivo **Datos_Ventas_Tienda2.csv** (también provisto en esta lección), y concaténalos para tener un solo dataFrame con toda la información.\n",
        "\n",
        "3. **Tratamiento de Datos**: Utiliza Pandas para manipular estos datos. Deberás realizar tareas como limpieza de datos, filtrado y  transformaciones básicas.\n",
        "4. **Análisis de Ventas**: Realiza análisis para responder preguntas como:\n",
        "- ¿Cuál es el producto más vendido?\n",
        "- ¿Cuál es el mes con más ventas?\n",
        "5. **Datos Agrupados**: Agrupa los datos por categoría de producto y analiza las ventas por categoría.\n",
        "6. **Guardar Resultados**: Al final, guarda el DataFrame completo (incluyendo la columna de meses) en un archivo .csv en tu ordenador."
      ]
    },
    {
      "cell_type": "code",
      "execution_count": null,
      "id": "67cdbc0b",
      "metadata": {
        "id": "67cdbc0b"
      },
      "outputs": [],
      "source": []
    }
  ],
  "metadata": {
    "kernelspec": {
      "display_name": "Python 3 (ipykernel)",
      "language": "python",
      "name": "python3"
    },
    "language_info": {
      "codemirror_mode": {
        "name": "ipython",
        "version": 3
      },
      "file_extension": ".py",
      "mimetype": "text/x-python",
      "name": "python",
      "nbconvert_exporter": "python",
      "pygments_lexer": "ipython3",
      "version": "3.11.5"
    },
    "colab": {
      "provenance": [],
      "include_colab_link": true
    }
  },
  "nbformat": 4,
  "nbformat_minor": 5
}